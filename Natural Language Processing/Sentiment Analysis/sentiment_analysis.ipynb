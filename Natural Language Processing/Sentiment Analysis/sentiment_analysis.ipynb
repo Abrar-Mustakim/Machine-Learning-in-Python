{
 "cells": [
  {
   "cell_type": "code",
   "execution_count": 1,
   "metadata": {},
   "outputs": [],
   "source": [
    "import numpy as np \n",
    "import pandas as pd \n",
    "import matplotlib.pyplot as plt \n",
    "import seaborn as sns \n",
    "%matplotlib inline "
   ]
  },
  {
   "cell_type": "code",
   "execution_count": 2,
   "metadata": {},
   "outputs": [],
   "source": [
    "np.random.seed(1)"
   ]
  },
  {
   "cell_type": "code",
   "execution_count": 3,
   "metadata": {},
   "outputs": [],
   "source": [
    "from sklearn.model_selection import train_test_split \n",
    "from sklearn.linear_model import LogisticRegression \n",
    "from sklearn.metrics import roc_auc_score, f1_score, confusion_matrix, classification_report \n",
    "from sklearn.feature_extraction.text import CountVectorizer, TfidfVectorizer\n"
   ]
  },
  {
   "cell_type": "code",
   "execution_count": 4,
   "metadata": {},
   "outputs": [],
   "source": [
    "df = pd.read_csv(\"AirlineTweets.csv\")"
   ]
  },
  {
   "cell_type": "code",
   "execution_count": 5,
   "metadata": {},
   "outputs": [
    {
     "data": {
      "text/html": [
       "<div>\n",
       "<style scoped>\n",
       "    .dataframe tbody tr th:only-of-type {\n",
       "        vertical-align: middle;\n",
       "    }\n",
       "\n",
       "    .dataframe tbody tr th {\n",
       "        vertical-align: top;\n",
       "    }\n",
       "\n",
       "    .dataframe thead th {\n",
       "        text-align: right;\n",
       "    }\n",
       "</style>\n",
       "<table border=\"1\" class=\"dataframe\">\n",
       "  <thead>\n",
       "    <tr style=\"text-align: right;\">\n",
       "      <th></th>\n",
       "      <th>tweet_id</th>\n",
       "      <th>airline_sentiment</th>\n",
       "      <th>airline_sentiment_confidence</th>\n",
       "      <th>negativereason</th>\n",
       "      <th>negativereason_confidence</th>\n",
       "      <th>airline</th>\n",
       "      <th>airline_sentiment_gold</th>\n",
       "      <th>name</th>\n",
       "      <th>negativereason_gold</th>\n",
       "      <th>retweet_count</th>\n",
       "      <th>text</th>\n",
       "      <th>tweet_coord</th>\n",
       "      <th>tweet_created</th>\n",
       "      <th>tweet_location</th>\n",
       "      <th>user_timezone</th>\n",
       "    </tr>\n",
       "  </thead>\n",
       "  <tbody>\n",
       "    <tr>\n",
       "      <th>0</th>\n",
       "      <td>570306133677760513</td>\n",
       "      <td>neutral</td>\n",
       "      <td>1.0000</td>\n",
       "      <td>NaN</td>\n",
       "      <td>NaN</td>\n",
       "      <td>Virgin America</td>\n",
       "      <td>NaN</td>\n",
       "      <td>cairdin</td>\n",
       "      <td>NaN</td>\n",
       "      <td>0</td>\n",
       "      <td>@VirginAmerica What @dhepburn said.</td>\n",
       "      <td>NaN</td>\n",
       "      <td>2015-02-24 11:35:52 -0800</td>\n",
       "      <td>NaN</td>\n",
       "      <td>Eastern Time (US &amp; Canada)</td>\n",
       "    </tr>\n",
       "    <tr>\n",
       "      <th>1</th>\n",
       "      <td>570301130888122368</td>\n",
       "      <td>positive</td>\n",
       "      <td>0.3486</td>\n",
       "      <td>NaN</td>\n",
       "      <td>0.0000</td>\n",
       "      <td>Virgin America</td>\n",
       "      <td>NaN</td>\n",
       "      <td>jnardino</td>\n",
       "      <td>NaN</td>\n",
       "      <td>0</td>\n",
       "      <td>@VirginAmerica plus you've added commercials t...</td>\n",
       "      <td>NaN</td>\n",
       "      <td>2015-02-24 11:15:59 -0800</td>\n",
       "      <td>NaN</td>\n",
       "      <td>Pacific Time (US &amp; Canada)</td>\n",
       "    </tr>\n",
       "    <tr>\n",
       "      <th>2</th>\n",
       "      <td>570301083672813571</td>\n",
       "      <td>neutral</td>\n",
       "      <td>0.6837</td>\n",
       "      <td>NaN</td>\n",
       "      <td>NaN</td>\n",
       "      <td>Virgin America</td>\n",
       "      <td>NaN</td>\n",
       "      <td>yvonnalynn</td>\n",
       "      <td>NaN</td>\n",
       "      <td>0</td>\n",
       "      <td>@VirginAmerica I didn't today... Must mean I n...</td>\n",
       "      <td>NaN</td>\n",
       "      <td>2015-02-24 11:15:48 -0800</td>\n",
       "      <td>Lets Play</td>\n",
       "      <td>Central Time (US &amp; Canada)</td>\n",
       "    </tr>\n",
       "    <tr>\n",
       "      <th>3</th>\n",
       "      <td>570301031407624196</td>\n",
       "      <td>negative</td>\n",
       "      <td>1.0000</td>\n",
       "      <td>Bad Flight</td>\n",
       "      <td>0.7033</td>\n",
       "      <td>Virgin America</td>\n",
       "      <td>NaN</td>\n",
       "      <td>jnardino</td>\n",
       "      <td>NaN</td>\n",
       "      <td>0</td>\n",
       "      <td>@VirginAmerica it's really aggressive to blast...</td>\n",
       "      <td>NaN</td>\n",
       "      <td>2015-02-24 11:15:36 -0800</td>\n",
       "      <td>NaN</td>\n",
       "      <td>Pacific Time (US &amp; Canada)</td>\n",
       "    </tr>\n",
       "    <tr>\n",
       "      <th>4</th>\n",
       "      <td>570300817074462722</td>\n",
       "      <td>negative</td>\n",
       "      <td>1.0000</td>\n",
       "      <td>Can't Tell</td>\n",
       "      <td>1.0000</td>\n",
       "      <td>Virgin America</td>\n",
       "      <td>NaN</td>\n",
       "      <td>jnardino</td>\n",
       "      <td>NaN</td>\n",
       "      <td>0</td>\n",
       "      <td>@VirginAmerica and it's a really big bad thing...</td>\n",
       "      <td>NaN</td>\n",
       "      <td>2015-02-24 11:14:45 -0800</td>\n",
       "      <td>NaN</td>\n",
       "      <td>Pacific Time (US &amp; Canada)</td>\n",
       "    </tr>\n",
       "  </tbody>\n",
       "</table>\n",
       "</div>"
      ],
      "text/plain": [
       "             tweet_id airline_sentiment  airline_sentiment_confidence  \\\n",
       "0  570306133677760513           neutral                        1.0000   \n",
       "1  570301130888122368          positive                        0.3486   \n",
       "2  570301083672813571           neutral                        0.6837   \n",
       "3  570301031407624196          negative                        1.0000   \n",
       "4  570300817074462722          negative                        1.0000   \n",
       "\n",
       "  negativereason  negativereason_confidence         airline  \\\n",
       "0            NaN                        NaN  Virgin America   \n",
       "1            NaN                     0.0000  Virgin America   \n",
       "2            NaN                        NaN  Virgin America   \n",
       "3     Bad Flight                     0.7033  Virgin America   \n",
       "4     Can't Tell                     1.0000  Virgin America   \n",
       "\n",
       "  airline_sentiment_gold        name negativereason_gold  retweet_count  \\\n",
       "0                    NaN     cairdin                 NaN              0   \n",
       "1                    NaN    jnardino                 NaN              0   \n",
       "2                    NaN  yvonnalynn                 NaN              0   \n",
       "3                    NaN    jnardino                 NaN              0   \n",
       "4                    NaN    jnardino                 NaN              0   \n",
       "\n",
       "                                                text tweet_coord  \\\n",
       "0                @VirginAmerica What @dhepburn said.         NaN   \n",
       "1  @VirginAmerica plus you've added commercials t...         NaN   \n",
       "2  @VirginAmerica I didn't today... Must mean I n...         NaN   \n",
       "3  @VirginAmerica it's really aggressive to blast...         NaN   \n",
       "4  @VirginAmerica and it's a really big bad thing...         NaN   \n",
       "\n",
       "               tweet_created tweet_location               user_timezone  \n",
       "0  2015-02-24 11:35:52 -0800            NaN  Eastern Time (US & Canada)  \n",
       "1  2015-02-24 11:15:59 -0800            NaN  Pacific Time (US & Canada)  \n",
       "2  2015-02-24 11:15:48 -0800      Lets Play  Central Time (US & Canada)  \n",
       "3  2015-02-24 11:15:36 -0800            NaN  Pacific Time (US & Canada)  \n",
       "4  2015-02-24 11:14:45 -0800            NaN  Pacific Time (US & Canada)  "
      ]
     },
     "execution_count": 5,
     "metadata": {},
     "output_type": "execute_result"
    }
   ],
   "source": [
    "df.head()"
   ]
  },
  {
   "cell_type": "code",
   "execution_count": 6,
   "metadata": {},
   "outputs": [
    {
     "data": {
      "text/plain": [
       "Index(['tweet_id', 'airline_sentiment', 'airline_sentiment_confidence',\n",
       "       'negativereason', 'negativereason_confidence', 'airline',\n",
       "       'airline_sentiment_gold', 'name', 'negativereason_gold',\n",
       "       'retweet_count', 'text', 'tweet_coord', 'tweet_created',\n",
       "       'tweet_location', 'user_timezone'],\n",
       "      dtype='object')"
      ]
     },
     "execution_count": 6,
     "metadata": {},
     "output_type": "execute_result"
    }
   ],
   "source": [
    "df.columns"
   ]
  },
  {
   "cell_type": "code",
   "execution_count": 7,
   "metadata": {},
   "outputs": [
    {
     "data": {
      "text/plain": [
       "0                      @VirginAmerica What @dhepburn said.\n",
       "1        @VirginAmerica plus you've added commercials t...\n",
       "2        @VirginAmerica I didn't today... Must mean I n...\n",
       "3        @VirginAmerica it's really aggressive to blast...\n",
       "4        @VirginAmerica and it's a really big bad thing...\n",
       "                               ...                        \n",
       "14635    @AmericanAir thank you we got on a different f...\n",
       "14636    @AmericanAir leaving over 20 minutes Late Flig...\n",
       "14637    @AmericanAir Please bring American Airlines to...\n",
       "14638    @AmericanAir you have my money, you change my ...\n",
       "14639    @AmericanAir we have 8 ppl so we need 2 know h...\n",
       "Name: text, Length: 14640, dtype: object"
      ]
     },
     "execution_count": 7,
     "metadata": {},
     "output_type": "execute_result"
    }
   ],
   "source": [
    "df[\"text\"]"
   ]
  },
  {
   "cell_type": "code",
   "execution_count": 8,
   "metadata": {},
   "outputs": [
    {
     "data": {
      "text/plain": [
       "0         neutral\n",
       "1        positive\n",
       "2         neutral\n",
       "3        negative\n",
       "4        negative\n",
       "           ...   \n",
       "14635    positive\n",
       "14636    negative\n",
       "14637     neutral\n",
       "14638    negative\n",
       "14639     neutral\n",
       "Name: airline_sentiment, Length: 14640, dtype: object"
      ]
     },
     "execution_count": 8,
     "metadata": {},
     "output_type": "execute_result"
    }
   ],
   "source": [
    "df[\"airline_sentiment\"]"
   ]
  },
  {
   "cell_type": "code",
   "execution_count": 9,
   "metadata": {},
   "outputs": [],
   "source": [
    "df = df[[\"airline_sentiment\", \"text\"]]"
   ]
  },
  {
   "cell_type": "code",
   "execution_count": 10,
   "metadata": {},
   "outputs": [
    {
     "data": {
      "text/html": [
       "<div>\n",
       "<style scoped>\n",
       "    .dataframe tbody tr th:only-of-type {\n",
       "        vertical-align: middle;\n",
       "    }\n",
       "\n",
       "    .dataframe tbody tr th {\n",
       "        vertical-align: top;\n",
       "    }\n",
       "\n",
       "    .dataframe thead th {\n",
       "        text-align: right;\n",
       "    }\n",
       "</style>\n",
       "<table border=\"1\" class=\"dataframe\">\n",
       "  <thead>\n",
       "    <tr style=\"text-align: right;\">\n",
       "      <th></th>\n",
       "      <th>airline_sentiment</th>\n",
       "      <th>text</th>\n",
       "    </tr>\n",
       "  </thead>\n",
       "  <tbody>\n",
       "    <tr>\n",
       "      <th>0</th>\n",
       "      <td>neutral</td>\n",
       "      <td>@VirginAmerica What @dhepburn said.</td>\n",
       "    </tr>\n",
       "    <tr>\n",
       "      <th>1</th>\n",
       "      <td>positive</td>\n",
       "      <td>@VirginAmerica plus you've added commercials t...</td>\n",
       "    </tr>\n",
       "    <tr>\n",
       "      <th>2</th>\n",
       "      <td>neutral</td>\n",
       "      <td>@VirginAmerica I didn't today... Must mean I n...</td>\n",
       "    </tr>\n",
       "    <tr>\n",
       "      <th>3</th>\n",
       "      <td>negative</td>\n",
       "      <td>@VirginAmerica it's really aggressive to blast...</td>\n",
       "    </tr>\n",
       "    <tr>\n",
       "      <th>4</th>\n",
       "      <td>negative</td>\n",
       "      <td>@VirginAmerica and it's a really big bad thing...</td>\n",
       "    </tr>\n",
       "  </tbody>\n",
       "</table>\n",
       "</div>"
      ],
      "text/plain": [
       "  airline_sentiment                                               text\n",
       "0           neutral                @VirginAmerica What @dhepburn said.\n",
       "1          positive  @VirginAmerica plus you've added commercials t...\n",
       "2           neutral  @VirginAmerica I didn't today... Must mean I n...\n",
       "3          negative  @VirginAmerica it's really aggressive to blast...\n",
       "4          negative  @VirginAmerica and it's a really big bad thing..."
      ]
     },
     "execution_count": 10,
     "metadata": {},
     "output_type": "execute_result"
    }
   ],
   "source": [
    "df.head()"
   ]
  },
  {
   "cell_type": "code",
   "execution_count": 11,
   "metadata": {},
   "outputs": [
    {
     "data": {
      "text/plain": [
       "count        14640\n",
       "unique           3\n",
       "top       negative\n",
       "freq          9178\n",
       "Name: airline_sentiment, dtype: object"
      ]
     },
     "execution_count": 11,
     "metadata": {},
     "output_type": "execute_result"
    }
   ],
   "source": [
    "df[\"airline_sentiment\"].describe()"
   ]
  },
  {
   "cell_type": "code",
   "execution_count": 12,
   "metadata": {},
   "outputs": [
    {
     "data": {
      "text/plain": [
       "negative    9178\n",
       "neutral     3099\n",
       "positive    2363\n",
       "Name: airline_sentiment, dtype: int64"
      ]
     },
     "execution_count": 12,
     "metadata": {},
     "output_type": "execute_result"
    }
   ],
   "source": [
    "df[\"airline_sentiment\"].value_counts()"
   ]
  },
  {
   "cell_type": "code",
   "execution_count": 13,
   "metadata": {},
   "outputs": [
    {
     "data": {
      "text/plain": [
       "<AxesSubplot:>"
      ]
     },
     "execution_count": 13,
     "metadata": {},
     "output_type": "execute_result"
    },
    {
     "data": {
      "image/png": "[encoded data removed]",
      "text/plain": [
       "<Figure size 640x480 with 1 Axes>"
      ]
     },
     "metadata": {},
     "output_type": "display_data"
    }
   ],
   "source": [
    "df[\"airline_sentiment\"].hist()"
   ]
  },
  {
   "cell_type": "code",
   "execution_count": 14,
   "metadata": {},
   "outputs": [],
   "source": [
    "target_map = {\"negative\":0, \"positive\":1, \"neutral\":2}\n",
    "df[\"target\"] = df[\"airline_sentiment\"].map(target_map)"
   ]
  },
  {
   "cell_type": "code",
   "execution_count": 15,
   "metadata": {},
   "outputs": [
    {
     "data": {
      "text/html": [
       "<div>\n",
       "<style scoped>\n",
       "    .dataframe tbody tr th:only-of-type {\n",
       "        vertical-align: middle;\n",
       "    }\n",
       "\n",
       "    .dataframe tbody tr th {\n",
       "        vertical-align: top;\n",
       "    }\n",
       "\n",
       "    .dataframe thead th {\n",
       "        text-align: right;\n",
       "    }\n",
       "</style>\n",
       "<table border=\"1\" class=\"dataframe\">\n",
       "  <thead>\n",
       "    <tr style=\"text-align: right;\">\n",
       "      <th></th>\n",
       "      <th>airline_sentiment</th>\n",
       "      <th>text</th>\n",
       "      <th>target</th>\n",
       "    </tr>\n",
       "  </thead>\n",
       "  <tbody>\n",
       "    <tr>\n",
       "      <th>0</th>\n",
       "      <td>neutral</td>\n",
       "      <td>@VirginAmerica What @dhepburn said.</td>\n",
       "      <td>2</td>\n",
       "    </tr>\n",
       "    <tr>\n",
       "      <th>1</th>\n",
       "      <td>positive</td>\n",
       "      <td>@VirginAmerica plus you've added commercials t...</td>\n",
       "      <td>1</td>\n",
       "    </tr>\n",
       "    <tr>\n",
       "      <th>2</th>\n",
       "      <td>neutral</td>\n",
       "      <td>@VirginAmerica I didn't today... Must mean I n...</td>\n",
       "      <td>2</td>\n",
       "    </tr>\n",
       "    <tr>\n",
       "      <th>3</th>\n",
       "      <td>negative</td>\n",
       "      <td>@VirginAmerica it's really aggressive to blast...</td>\n",
       "      <td>0</td>\n",
       "    </tr>\n",
       "    <tr>\n",
       "      <th>4</th>\n",
       "      <td>negative</td>\n",
       "      <td>@VirginAmerica and it's a really big bad thing...</td>\n",
       "      <td>0</td>\n",
       "    </tr>\n",
       "  </tbody>\n",
       "</table>\n",
       "</div>"
      ],
      "text/plain": [
       "  airline_sentiment                                               text  target\n",
       "0           neutral                @VirginAmerica What @dhepburn said.       2\n",
       "1          positive  @VirginAmerica plus you've added commercials t...       1\n",
       "2           neutral  @VirginAmerica I didn't today... Must mean I n...       2\n",
       "3          negative  @VirginAmerica it's really aggressive to blast...       0\n",
       "4          negative  @VirginAmerica and it's a really big bad thing...       0"
      ]
     },
     "execution_count": 15,
     "metadata": {},
     "output_type": "execute_result"
    }
   ],
   "source": [
    "df.head()"
   ]
  },
  {
   "cell_type": "code",
   "execution_count": 16,
   "metadata": {},
   "outputs": [],
   "source": [
    "train, test = train_test_split(df)"
   ]
  },
  {
   "cell_type": "code",
   "execution_count": 17,
   "metadata": {},
   "outputs": [
    {
     "data": {
      "text/html": [
       "<div>\n",
       "<style scoped>\n",
       "    .dataframe tbody tr th:only-of-type {\n",
       "        vertical-align: middle;\n",
       "    }\n",
       "\n",
       "    .dataframe tbody tr th {\n",
       "        vertical-align: top;\n",
       "    }\n",
       "\n",
       "    .dataframe thead th {\n",
       "        text-align: right;\n",
       "    }\n",
       "</style>\n",
       "<table border=\"1\" class=\"dataframe\">\n",
       "  <thead>\n",
       "    <tr style=\"text-align: right;\">\n",
       "      <th></th>\n",
       "      <th>airline_sentiment</th>\n",
       "      <th>text</th>\n",
       "      <th>target</th>\n",
       "    </tr>\n",
       "  </thead>\n",
       "  <tbody>\n",
       "    <tr>\n",
       "      <th>1041</th>\n",
       "      <td>negative</td>\n",
       "      <td>@united Change made in just over 3 hours. For ...</td>\n",
       "      <td>0</td>\n",
       "    </tr>\n",
       "    <tr>\n",
       "      <th>1989</th>\n",
       "      <td>negative</td>\n",
       "      <td>@united The engineer that designed the 787 doo...</td>\n",
       "      <td>0</td>\n",
       "    </tr>\n",
       "    <tr>\n",
       "      <th>14309</th>\n",
       "      <td>negative</td>\n",
       "      <td>@AmericanAir 11 out of 11 delayed flights, you...</td>\n",
       "      <td>0</td>\n",
       "    </tr>\n",
       "    <tr>\n",
       "      <th>1711</th>\n",
       "      <td>negative</td>\n",
       "      <td>@united ouch not fair</td>\n",
       "      <td>0</td>\n",
       "    </tr>\n",
       "    <tr>\n",
       "      <th>11542</th>\n",
       "      <td>negative</td>\n",
       "      <td>@USAirways stuck in cae need reFlight Booking ...</td>\n",
       "      <td>0</td>\n",
       "    </tr>\n",
       "  </tbody>\n",
       "</table>\n",
       "</div>"
      ],
      "text/plain": [
       "      airline_sentiment                                               text  \\\n",
       "1041           negative  @united Change made in just over 3 hours. For ...   \n",
       "1989           negative  @united The engineer that designed the 787 doo...   \n",
       "14309          negative  @AmericanAir 11 out of 11 delayed flights, you...   \n",
       "1711           negative                              @united ouch not fair   \n",
       "11542          negative  @USAirways stuck in cae need reFlight Booking ...   \n",
       "\n",
       "       target  \n",
       "1041        0  \n",
       "1989        0  \n",
       "14309       0  \n",
       "1711        0  \n",
       "11542       0  "
      ]
     },
     "execution_count": 17,
     "metadata": {},
     "output_type": "execute_result"
    }
   ],
   "source": [
    "train.head()"
   ]
  },
  {
   "cell_type": "code",
   "execution_count": 18,
   "metadata": {},
   "outputs": [
    {
     "data": {
      "text/html": [
       "<div>\n",
       "<style scoped>\n",
       "    .dataframe tbody tr th:only-of-type {\n",
       "        vertical-align: middle;\n",
       "    }\n",
       "\n",
       "    .dataframe tbody tr th {\n",
       "        vertical-align: top;\n",
       "    }\n",
       "\n",
       "    .dataframe thead th {\n",
       "        text-align: right;\n",
       "    }\n",
       "</style>\n",
       "<table border=\"1\" class=\"dataframe\">\n",
       "  <thead>\n",
       "    <tr style=\"text-align: right;\">\n",
       "      <th></th>\n",
       "      <th>airline_sentiment</th>\n",
       "      <th>text</th>\n",
       "      <th>target</th>\n",
       "    </tr>\n",
       "  </thead>\n",
       "  <tbody>\n",
       "    <tr>\n",
       "      <th>8515</th>\n",
       "      <td>positive</td>\n",
       "      <td>@JetBlue I'll pass along the advice. You guys ...</td>\n",
       "      <td>1</td>\n",
       "    </tr>\n",
       "    <tr>\n",
       "      <th>3439</th>\n",
       "      <td>negative</td>\n",
       "      <td>@united I sent you a dm with my file reference...</td>\n",
       "      <td>0</td>\n",
       "    </tr>\n",
       "    <tr>\n",
       "      <th>6439</th>\n",
       "      <td>positive</td>\n",
       "      <td>@SouthwestAir Black History Commercial is real...</td>\n",
       "      <td>1</td>\n",
       "    </tr>\n",
       "    <tr>\n",
       "      <th>5112</th>\n",
       "      <td>negative</td>\n",
       "      <td>@SouthwestAir why am I still in Baltimore?! @d...</td>\n",
       "      <td>0</td>\n",
       "    </tr>\n",
       "    <tr>\n",
       "      <th>5645</th>\n",
       "      <td>positive</td>\n",
       "      <td>@SouthwestAir SEA to DEN. South Sound Volleyba...</td>\n",
       "      <td>1</td>\n",
       "    </tr>\n",
       "  </tbody>\n",
       "</table>\n",
       "</div>"
      ],
      "text/plain": [
       "     airline_sentiment                                               text  \\\n",
       "8515          positive  @JetBlue I'll pass along the advice. You guys ...   \n",
       "3439          negative  @united I sent you a dm with my file reference...   \n",
       "6439          positive  @SouthwestAir Black History Commercial is real...   \n",
       "5112          negative  @SouthwestAir why am I still in Baltimore?! @d...   \n",
       "5645          positive  @SouthwestAir SEA to DEN. South Sound Volleyba...   \n",
       "\n",
       "      target  \n",
       "8515       1  \n",
       "3439       0  \n",
       "6439       1  \n",
       "5112       0  \n",
       "5645       1  "
      ]
     },
     "execution_count": 18,
     "metadata": {},
     "output_type": "execute_result"
    }
   ],
   "source": [
    "test.head()"
   ]
  },
  {
   "cell_type": "code",
   "execution_count": 19,
   "metadata": {},
   "outputs": [],
   "source": [
    "vectorizer = TfidfVectorizer(max_features=2000)"
   ]
  },
  {
   "cell_type": "code",
   "execution_count": 20,
   "metadata": {},
   "outputs": [],
   "source": [
    "X_train = vectorizer.fit_transform(train[\"text\"])"
   ]
  },
  {
   "cell_type": "code",
   "execution_count": 21,
   "metadata": {},
   "outputs": [],
   "source": [
    "X_test = vectorizer.transform(test[\"text\"])"
   ]
  },
  {
   "cell_type": "code",
   "execution_count": 22,
   "metadata": {},
   "outputs": [
    {
     "name": "stdout",
     "output_type": "stream",
     "text": [
      "[[0. 0. 0. ... 0. 0. 0.]\n",
      " [0. 0. 0. ... 0. 0. 0.]\n",
      " [0. 0. 0. ... 0. 0. 0.]\n",
      " ...\n",
      " [0. 0. 0. ... 0. 0. 0.]\n",
      " [0. 0. 0. ... 0. 0. 0.]\n",
      " [0. 0. 0. ... 0. 0. 0.]]\n"
     ]
    }
   ],
   "source": [
    "print(X_train.toarray())"
   ]
  },
  {
   "cell_type": "code",
   "execution_count": 23,
   "metadata": {},
   "outputs": [
    {
     "name": "stdout",
     "output_type": "stream",
     "text": [
      "[[0.         0.         0.         ... 0.         0.         0.        ]\n",
      " [0.         0.         0.         ... 0.         0.         0.        ]\n",
      " [0.         0.         0.         ... 0.         0.         0.        ]\n",
      " ...\n",
      " [0.         0.         0.         ... 0.         0.         0.        ]\n",
      " [0.         0.32543236 0.24405454 ... 0.         0.         0.        ]\n",
      " [0.         0.         0.         ... 0.         0.         0.        ]]\n"
     ]
    }
   ],
   "source": [
    "print(X_test.toarray())"
   ]
  },
  {
   "cell_type": "code",
   "execution_count": 24,
   "metadata": {},
   "outputs": [],
   "source": [
    "y_train = train[\"target\"]\n",
    "y_test = test[\"target\"]"
   ]
  },
  {
   "cell_type": "code",
   "execution_count": 25,
   "metadata": {},
   "outputs": [
    {
     "data": {
      "text/html": [
       "<style>#sk-container-id-1 {color: black;background-color: white;}#sk-container-id-1 pre{padding: 0;}#sk-container-id-1 div.sk-toggleable {background-color: white;}#sk-container-id-1 label.sk-toggleable__label {cursor: pointer;display: block;width: 100%;margin-bottom: 0;padding: 0.3em;box-sizing: border-box;text-align: center;}#sk-container-id-1 label.sk-toggleable__label-arrow:before {content: \"▸\";float: left;margin-right: 0.25em;color: #696969;}#sk-container-id-1 label.sk-toggleable__label-arrow:hover:before {color: black;}#sk-container-id-1 div.sk-estimator:hover label.sk-toggleable__label-arrow:before {color: black;}#sk-container-id-1 div.sk-toggleable__content {max-height: 0;max-width: 0;overflow: hidden;text-align: left;background-color: #f0f8ff;}#sk-container-id-1 div.sk-toggleable__content pre {margin: 0.2em;color: black;border-radius: 0.25em;background-color: #f0f8ff;}#sk-container-id-1 input.sk-toggleable__control:checked~div.sk-toggleable__content {max-height: 200px;max-width: 100%;overflow: auto;}#sk-container-id-1 input.sk-toggleable__control:checked~label.sk-toggleable__label-arrow:before {content: \"▾\";}#sk-container-id-1 div.sk-estimator input.sk-toggleable__control:checked~label.sk-toggleable__label {background-color: #d4ebff;}#sk-container-id-1 div.sk-label input.sk-toggleable__control:checked~label.sk-toggleable__label {background-color: #d4ebff;}#sk-container-id-1 input.sk-hidden--visually {border: 0;clip: rect(1px 1px 1px 1px);clip: rect(1px, 1px, 1px, 1px);height: 1px;margin: -1px;overflow: hidden;padding: 0;position: absolute;width: 1px;}#sk-container-id-1 div.sk-estimator {font-family: monospace;background-color: #f0f8ff;border: 1px dotted black;border-radius: 0.25em;box-sizing: border-box;margin-bottom: 0.5em;}#sk-container-id-1 div.sk-estimator:hover {background-color: #d4ebff;}#sk-container-id-1 div.sk-parallel-item::after {content: \"\";width: 100%;border-bottom: 1px solid gray;flex-grow: 1;}#sk-container-id-1 div.sk-label:hover label.sk-toggleable__label {background-color: #d4ebff;}#sk-container-id-1 div.sk-serial::before {content: \"\";position: absolute;border-left: 1px solid gray;box-sizing: border-box;top: 0;bottom: 0;left: 50%;z-index: 0;}#sk-container-id-1 div.sk-serial {display: flex;flex-direction: column;align-items: center;background-color: white;padding-right: 0.2em;padding-left: 0.2em;position: relative;}#sk-container-id-1 div.sk-item {position: relative;z-index: 1;}#sk-container-id-1 div.sk-parallel {display: flex;align-items: stretch;justify-content: center;background-color: white;position: relative;}#sk-container-id-1 div.sk-item::before, #sk-container-id-1 div.sk-parallel-item::before {content: \"\";position: absolute;border-left: 1px solid gray;box-sizing: border-box;top: 0;bottom: 0;left: 50%;z-index: -1;}#sk-container-id-1 div.sk-parallel-item {display: flex;flex-direction: column;z-index: 1;position: relative;background-color: white;}#sk-container-id-1 div.sk-parallel-item:first-child::after {align-self: flex-end;width: 50%;}#sk-container-id-1 div.sk-parallel-item:last-child::after {align-self: flex-start;width: 50%;}#sk-container-id-1 div.sk-parallel-item:only-child::after {width: 0;}#sk-container-id-1 div.sk-dashed-wrapped {border: 1px dashed gray;margin: 0 0.4em 0.5em 0.4em;box-sizing: border-box;padding-bottom: 0.4em;background-color: white;}#sk-container-id-1 div.sk-label label {font-family: monospace;font-weight: bold;display: inline-block;line-height: 1.2em;}#sk-container-id-1 div.sk-label-container {text-align: center;}#sk-container-id-1 div.sk-container {/* jupyter's `normalize.less` sets `[hidden] { display: none; }` but bootstrap.min.css set `[hidden] { display: none !important; }` so we also need the `!important` here to be able to override the default hidden behavior on the sphinx rendered scikit-learn.org. See: https://github.com/scikit-learn/scikit-learn/issues/21755 */display: inline-block !important;position: relative;}#sk-container-id-1 div.sk-text-repr-fallback {display: none;}</style><div id=\"sk-container-id-1\" class=\"sk-top-container\"><div class=\"sk-text-repr-fallback\"><pre>LogisticRegression(max_iter=50000)</pre><b>In a Jupyter environment, please rerun this cell to show the HTML representation or trust the notebook. <br />On GitHub, the HTML representation is unable to render, please try loading this page with nbviewer.org.</b></div><div class=\"sk-container\" hidden><div class=\"sk-item\"><div class=\"sk-estimator sk-toggleable\"><input class=\"sk-toggleable__control sk-hidden--visually\" id=\"sk-estimator-id-1\" type=\"checkbox\" checked><label for=\"sk-estimator-id-1\" class=\"sk-toggleable__label sk-toggleable__label-arrow\">LogisticRegression</label><div class=\"sk-toggleable__content\"><pre>LogisticRegression(max_iter=50000)</pre></div></div></div></div></div>"
      ],
      "text/plain": [
       "LogisticRegression(max_iter=50000)"
      ]
     },
     "execution_count": 25,
     "metadata": {},
     "output_type": "execute_result"
    }
   ],
   "source": [
    "model = LogisticRegression(max_iter=50000)\n",
    "model.fit(X_train, y_train) "
   ]
  },
  {
   "cell_type": "code",
   "execution_count": null,
   "metadata": {},
   "outputs": [],
   "source": []
  },
  {
   "cell_type": "code",
   "execution_count": 26,
   "metadata": {},
   "outputs": [
    {
     "name": "stdout",
     "output_type": "stream",
     "text": [
      "Training Accuracy: 0.854735883424408\n",
      "Testing Accuracy: 0.7991803278688525\n"
     ]
    }
   ],
   "source": [
    "print(\"Training Accuracy:\", model.score(X_train, y_train))\n",
    "print(\"Testing Accuracy:\", model.score(X_test, y_test))"
   ]
  },
  {
   "cell_type": "code",
   "execution_count": 27,
   "metadata": {},
   "outputs": [],
   "source": [
    "predictions = model.predict(X_test)"
   ]
  },
  {
   "cell_type": "code",
   "execution_count": 28,
   "metadata": {},
   "outputs": [
    {
     "data": {
      "text/plain": [
       "array([1, 0, 1, ..., 0, 0, 2], dtype=int64)"
      ]
     },
     "execution_count": 28,
     "metadata": {},
     "output_type": "execute_result"
    }
   ],
   "source": [
    "predictions"
   ]
  },
  {
   "cell_type": "code",
   "execution_count": 29,
   "metadata": {},
   "outputs": [
    {
     "name": "stdout",
     "output_type": "stream",
     "text": [
      "              precision    recall  f1-score   support\n",
      "\n",
      "           0       0.82      0.93      0.87      2291\n",
      "           1       0.82      0.64      0.72       595\n",
      "           2       0.68      0.53      0.60       774\n",
      "\n",
      "    accuracy                           0.80      3660\n",
      "   macro avg       0.78      0.70      0.73      3660\n",
      "weighted avg       0.79      0.80      0.79      3660\n",
      "\n"
     ]
    }
   ],
   "source": [
    "print(classification_report(y_test, predictions))"
   ]
  },
  {
   "cell_type": "code",
   "execution_count": 30,
   "metadata": {},
   "outputs": [],
   "source": [
    "Pr_train = model.predict_proba(X_train)\n",
    "Pr_test = model.predict_proba(X_test) "
   ]
  },
  {
   "cell_type": "code",
   "execution_count": 31,
   "metadata": {},
   "outputs": [
    {
     "data": {
      "text/plain": [
       "array([[0.83748855, 0.06940554, 0.09310591],\n",
       "       [0.94873565, 0.02716209, 0.02410227],\n",
       "       [0.94593973, 0.01028956, 0.0437707 ],\n",
       "       ...,\n",
       "       [0.00803308, 0.9562905 , 0.03567641],\n",
       "       [0.26192581, 0.44080657, 0.29726762],\n",
       "       [0.98795924, 0.00445402, 0.00758674]])"
      ]
     },
     "execution_count": 31,
     "metadata": {},
     "output_type": "execute_result"
    }
   ],
   "source": [
    "Pr_train"
   ]
  },
  {
   "cell_type": "code",
   "execution_count": 32,
   "metadata": {},
   "outputs": [
    {
     "name": "stdout",
     "output_type": "stream",
     "text": [
      "Train AUC: 0.9431006589265122\n",
      "Test AUC: 0.8954032881964459\n"
     ]
    }
   ],
   "source": [
    "print(\"Train AUC:\", roc_auc_score(y_train, Pr_train, multi_class=\"ovo\"))\n",
    "print(\"Test AUC:\", roc_auc_score(y_test, Pr_test, multi_class=\"ovo\"))"
   ]
  },
  {
   "cell_type": "code",
   "execution_count": 33,
   "metadata": {},
   "outputs": [
    {
     "name": "stdout",
     "output_type": "stream",
     "text": [
      "[[0.93059799 0.01658664 0.05281536]\n",
      " [0.24537815 0.63865546 0.11596639]\n",
      " [0.40826873 0.05813953 0.53359173]]\n"
     ]
    }
   ],
   "source": [
    "print(confusion_matrix(y_test, predictions, normalize='true'))"
   ]
  },
  {
   "cell_type": "code",
   "execution_count": 34,
   "metadata": {},
   "outputs": [
    {
     "data": {
      "text/plain": [
       "<AxesSubplot:>"
      ]
     },
     "execution_count": 34,
     "metadata": {},
     "output_type": "execute_result"
    },
    {
     "data": {
      "image/png": "[encoded data removed]",
      "text/plain": [
       "<Figure size 640x480 with 2 Axes>"
      ]
     },
     "metadata": {},
     "output_type": "display_data"
    }
   ],
   "source": [
    "sns.heatmap(confusion_matrix(y_test, predictions, normalize='true'), annot=True, xticklabels=True)"
   ]
  },
  {
   "attachments": {},
   "cell_type": "markdown",
   "metadata": {},
   "source": [
    "<h4>Remove Neutral </h4>"
   ]
  },
  {
   "cell_type": "code",
   "execution_count": 35,
   "metadata": {},
   "outputs": [],
   "source": [
    "df_train = train[train[\"target\"]!=2]\n",
    "df_test = test[test[\"target\"]!=2]"
   ]
  },
  {
   "cell_type": "code",
   "execution_count": 43,
   "metadata": {},
   "outputs": [
    {
     "data": {
      "text/html": [
       "<div>\n",
       "<style scoped>\n",
       "    .dataframe tbody tr th:only-of-type {\n",
       "        vertical-align: middle;\n",
       "    }\n",
       "\n",
       "    .dataframe tbody tr th {\n",
       "        vertical-align: top;\n",
       "    }\n",
       "\n",
       "    .dataframe thead th {\n",
       "        text-align: right;\n",
       "    }\n",
       "</style>\n",
       "<table border=\"1\" class=\"dataframe\">\n",
       "  <thead>\n",
       "    <tr style=\"text-align: right;\">\n",
       "      <th></th>\n",
       "      <th>airline_sentiment</th>\n",
       "      <th>text</th>\n",
       "      <th>target</th>\n",
       "    </tr>\n",
       "  </thead>\n",
       "  <tbody>\n",
       "    <tr>\n",
       "      <th>1041</th>\n",
       "      <td>negative</td>\n",
       "      <td>@united Change made in just over 3 hours. For ...</td>\n",
       "      <td>0</td>\n",
       "    </tr>\n",
       "    <tr>\n",
       "      <th>1989</th>\n",
       "      <td>negative</td>\n",
       "      <td>@united The engineer that designed the 787 doo...</td>\n",
       "      <td>0</td>\n",
       "    </tr>\n",
       "    <tr>\n",
       "      <th>14309</th>\n",
       "      <td>negative</td>\n",
       "      <td>@AmericanAir 11 out of 11 delayed flights, you...</td>\n",
       "      <td>0</td>\n",
       "    </tr>\n",
       "    <tr>\n",
       "      <th>1711</th>\n",
       "      <td>negative</td>\n",
       "      <td>@united ouch not fair</td>\n",
       "      <td>0</td>\n",
       "    </tr>\n",
       "    <tr>\n",
       "      <th>11542</th>\n",
       "      <td>negative</td>\n",
       "      <td>@USAirways stuck in cae need reFlight Booking ...</td>\n",
       "      <td>0</td>\n",
       "    </tr>\n",
       "  </tbody>\n",
       "</table>\n",
       "</div>"
      ],
      "text/plain": [
       "      airline_sentiment                                               text  \\\n",
       "1041           negative  @united Change made in just over 3 hours. For ...   \n",
       "1989           negative  @united The engineer that designed the 787 doo...   \n",
       "14309          negative  @AmericanAir 11 out of 11 delayed flights, you...   \n",
       "1711           negative                              @united ouch not fair   \n",
       "11542          negative  @USAirways stuck in cae need reFlight Booking ...   \n",
       "\n",
       "       target  \n",
       "1041        0  \n",
       "1989        0  \n",
       "14309       0  \n",
       "1711        0  \n",
       "11542       0  "
      ]
     },
     "execution_count": 43,
     "metadata": {},
     "output_type": "execute_result"
    }
   ],
   "source": [
    "df_train.head()"
   ]
  },
  {
   "cell_type": "code",
   "execution_count": null,
   "metadata": {},
   "outputs": [],
   "source": []
  },
  {
   "cell_type": "code",
   "execution_count": 44,
   "metadata": {},
   "outputs": [
    {
     "data": {
      "text/plain": [
       "0    6887\n",
       "1    1768\n",
       "Name: target, dtype: int64"
      ]
     },
     "execution_count": 44,
     "metadata": {},
     "output_type": "execute_result"
    }
   ],
   "source": [
    "df_train[\"target\"].value_counts()"
   ]
  },
  {
   "cell_type": "code",
   "execution_count": 45,
   "metadata": {},
   "outputs": [
    {
     "data": {
      "text/plain": [
       "0    2291\n",
       "1     595\n",
       "Name: target, dtype: int64"
      ]
     },
     "execution_count": 45,
     "metadata": {},
     "output_type": "execute_result"
    }
   ],
   "source": [
    "df_test[\"target\"].value_counts()"
   ]
  },
  {
   "cell_type": "code",
   "execution_count": 46,
   "metadata": {},
   "outputs": [],
   "source": [
    "Y_train = df_train[\"target\"]\n",
    "Y_test = df_test[\"target\"]"
   ]
  },
  {
   "cell_type": "code",
   "execution_count": 47,
   "metadata": {},
   "outputs": [],
   "source": [
    "X_train = vectorizer.fit_transform(df_train[\"text\"])\n",
    "X_test = vectorizer.transform(df_test[\"text\"])"
   ]
  },
  {
   "cell_type": "code",
   "execution_count": 48,
   "metadata": {},
   "outputs": [
    {
     "data": {
      "text/plain": [
       "array([[0., 0., 0., ..., 0., 0., 0.],\n",
       "       [0., 0., 0., ..., 0., 0., 0.],\n",
       "       [0., 0., 0., ..., 0., 0., 0.],\n",
       "       ...,\n",
       "       [0., 0., 0., ..., 0., 0., 0.],\n",
       "       [0., 0., 0., ..., 0., 0., 0.],\n",
       "       [0., 0., 0., ..., 0., 0., 0.]])"
      ]
     },
     "execution_count": 48,
     "metadata": {},
     "output_type": "execute_result"
    }
   ],
   "source": [
    "X_train.toarray()"
   ]
  },
  {
   "cell_type": "code",
   "execution_count": 49,
   "metadata": {},
   "outputs": [],
   "source": [
    "\n",
    "model = LogisticRegression(max_iter=500)\n"
   ]
  },
  {
   "cell_type": "code",
   "execution_count": 50,
   "metadata": {},
   "outputs": [
    {
     "data": {
      "text/html": [
       "<style>#sk-container-id-2 {color: black;background-color: white;}#sk-container-id-2 pre{padding: 0;}#sk-container-id-2 div.sk-toggleable {background-color: white;}#sk-container-id-2 label.sk-toggleable__label {cursor: pointer;display: block;width: 100%;margin-bottom: 0;padding: 0.3em;box-sizing: border-box;text-align: center;}#sk-container-id-2 label.sk-toggleable__label-arrow:before {content: \"▸\";float: left;margin-right: 0.25em;color: #696969;}#sk-container-id-2 label.sk-toggleable__label-arrow:hover:before {color: black;}#sk-container-id-2 div.sk-estimator:hover label.sk-toggleable__label-arrow:before {color: black;}#sk-container-id-2 div.sk-toggleable__content {max-height: 0;max-width: 0;overflow: hidden;text-align: left;background-color: #f0f8ff;}#sk-container-id-2 div.sk-toggleable__content pre {margin: 0.2em;color: black;border-radius: 0.25em;background-color: #f0f8ff;}#sk-container-id-2 input.sk-toggleable__control:checked~div.sk-toggleable__content {max-height: 200px;max-width: 100%;overflow: auto;}#sk-container-id-2 input.sk-toggleable__control:checked~label.sk-toggleable__label-arrow:before {content: \"▾\";}#sk-container-id-2 div.sk-estimator input.sk-toggleable__control:checked~label.sk-toggleable__label {background-color: #d4ebff;}#sk-container-id-2 div.sk-label input.sk-toggleable__control:checked~label.sk-toggleable__label {background-color: #d4ebff;}#sk-container-id-2 input.sk-hidden--visually {border: 0;clip: rect(1px 1px 1px 1px);clip: rect(1px, 1px, 1px, 1px);height: 1px;margin: -1px;overflow: hidden;padding: 0;position: absolute;width: 1px;}#sk-container-id-2 div.sk-estimator {font-family: monospace;background-color: #f0f8ff;border: 1px dotted black;border-radius: 0.25em;box-sizing: border-box;margin-bottom: 0.5em;}#sk-container-id-2 div.sk-estimator:hover {background-color: #d4ebff;}#sk-container-id-2 div.sk-parallel-item::after {content: \"\";width: 100%;border-bottom: 1px solid gray;flex-grow: 1;}#sk-container-id-2 div.sk-label:hover label.sk-toggleable__label {background-color: #d4ebff;}#sk-container-id-2 div.sk-serial::before {content: \"\";position: absolute;border-left: 1px solid gray;box-sizing: border-box;top: 0;bottom: 0;left: 50%;z-index: 0;}#sk-container-id-2 div.sk-serial {display: flex;flex-direction: column;align-items: center;background-color: white;padding-right: 0.2em;padding-left: 0.2em;position: relative;}#sk-container-id-2 div.sk-item {position: relative;z-index: 1;}#sk-container-id-2 div.sk-parallel {display: flex;align-items: stretch;justify-content: center;background-color: white;position: relative;}#sk-container-id-2 div.sk-item::before, #sk-container-id-2 div.sk-parallel-item::before {content: \"\";position: absolute;border-left: 1px solid gray;box-sizing: border-box;top: 0;bottom: 0;left: 50%;z-index: -1;}#sk-container-id-2 div.sk-parallel-item {display: flex;flex-direction: column;z-index: 1;position: relative;background-color: white;}#sk-container-id-2 div.sk-parallel-item:first-child::after {align-self: flex-end;width: 50%;}#sk-container-id-2 div.sk-parallel-item:last-child::after {align-self: flex-start;width: 50%;}#sk-container-id-2 div.sk-parallel-item:only-child::after {width: 0;}#sk-container-id-2 div.sk-dashed-wrapped {border: 1px dashed gray;margin: 0 0.4em 0.5em 0.4em;box-sizing: border-box;padding-bottom: 0.4em;background-color: white;}#sk-container-id-2 div.sk-label label {font-family: monospace;font-weight: bold;display: inline-block;line-height: 1.2em;}#sk-container-id-2 div.sk-label-container {text-align: center;}#sk-container-id-2 div.sk-container {/* jupyter's `normalize.less` sets `[hidden] { display: none; }` but bootstrap.min.css set `[hidden] { display: none !important; }` so we also need the `!important` here to be able to override the default hidden behavior on the sphinx rendered scikit-learn.org. See: https://github.com/scikit-learn/scikit-learn/issues/21755 */display: inline-block !important;position: relative;}#sk-container-id-2 div.sk-text-repr-fallback {display: none;}</style><div id=\"sk-container-id-2\" class=\"sk-top-container\"><div class=\"sk-text-repr-fallback\"><pre>LogisticRegression(max_iter=500)</pre><b>In a Jupyter environment, please rerun this cell to show the HTML representation or trust the notebook. <br />On GitHub, the HTML representation is unable to render, please try loading this page with nbviewer.org.</b></div><div class=\"sk-container\" hidden><div class=\"sk-item\"><div class=\"sk-estimator sk-toggleable\"><input class=\"sk-toggleable__control sk-hidden--visually\" id=\"sk-estimator-id-2\" type=\"checkbox\" checked><label for=\"sk-estimator-id-2\" class=\"sk-toggleable__label sk-toggleable__label-arrow\">LogisticRegression</label><div class=\"sk-toggleable__content\"><pre>LogisticRegression(max_iter=500)</pre></div></div></div></div></div>"
      ],
      "text/plain": [
       "LogisticRegression(max_iter=500)"
      ]
     },
     "execution_count": 50,
     "metadata": {},
     "output_type": "execute_result"
    }
   ],
   "source": [
    "model.fit(X_train, Y_train)"
   ]
  },
  {
   "cell_type": "code",
   "execution_count": 51,
   "metadata": {},
   "outputs": [
    {
     "name": "stdout",
     "output_type": "stream",
     "text": [
      "Training Accuracy: 0.9300982091276718\n",
      "Testing Accuracy: 0.9147609147609148\n"
     ]
    }
   ],
   "source": [
    "print(\"Training Accuracy:\", model.score(X_train, Y_train))\n",
    "print(\"Testing Accuracy:\", model.score(X_test, Y_test))"
   ]
  },
  {
   "cell_type": "code",
   "execution_count": 52,
   "metadata": {},
   "outputs": [],
   "source": [
    "predictions = model.predict(X_test)"
   ]
  },
  {
   "cell_type": "code",
   "execution_count": 53,
   "metadata": {},
   "outputs": [
    {
     "name": "stdout",
     "output_type": "stream",
     "text": [
      "              precision    recall  f1-score   support\n",
      "\n",
      "           0       0.91      0.98      0.95      2291\n",
      "           1       0.92      0.65      0.76       595\n",
      "\n",
      "    accuracy                           0.91      2886\n",
      "   macro avg       0.92      0.82      0.85      2886\n",
      "weighted avg       0.91      0.91      0.91      2886\n",
      "\n"
     ]
    }
   ],
   "source": [
    "print(classification_report(Y_test, predictions))"
   ]
  },
  {
   "cell_type": "code",
   "execution_count": 54,
   "metadata": {},
   "outputs": [
    {
     "name": "stdout",
     "output_type": "stream",
     "text": [
      "Train AUC: 0.9790315809115082\n",
      "Test AUC: 0.9533010061292087\n"
     ]
    }
   ],
   "source": [
    "#ROC-AUC\n",
    "\n",
    "PR_train = model.predict_proba(X_train)[:,1]\n",
    "PR_test = model.predict_proba(X_test)[:,1]\n",
    "print(\"Train AUC:\", roc_auc_score(Y_train, PR_train))\n",
    "print(\"Test AUC:\", roc_auc_score(Y_test, PR_test))"
   ]
  },
  {
   "attachments": {},
   "cell_type": "markdown",
   "metadata": {},
   "source": [
    "<h4>Interpreting</h4>"
   ]
  },
  {
   "cell_type": "code",
   "execution_count": 55,
   "metadata": {},
   "outputs": [
    {
     "data": {
      "text/plain": [
       "array([[-0.25739278, -0.13377981, -0.34118084, ...,  0.49951607,\n",
       "         0.00725632, -0.61652739]])"
      ]
     },
     "execution_count": 55,
     "metadata": {},
     "output_type": "execute_result"
    }
   ],
   "source": [
    "model.coef_"
   ]
  },
  {
   "cell_type": "code",
   "execution_count": 59,
   "metadata": {},
   "outputs": [
    {
     "data": {
      "text/plain": [
       "(1, 2000)"
      ]
     },
     "execution_count": 59,
     "metadata": {},
     "output_type": "execute_result"
    }
   ],
   "source": [
    "model.coef_.shape"
   ]
  },
  {
   "cell_type": "code",
   "execution_count": 56,
   "metadata": {},
   "outputs": [
    {
     "data": {
      "text/plain": [
       "(array([  2.,   0.,   2.,   3.,   2.,  12.,  25.,  60., 183., 776., 550.,\n",
       "        227.,  86.,  44.,  11.,   2.,   2.,   4.,   2.,   1.,   3.,   0.,\n",
       "          1.,   0.,   0.,   0.,   0.,   0.,   0.,   2.]),\n",
       " array([-4.23787117, -3.82467728, -3.41148339, -2.9982895 , -2.58509561,\n",
       "        -2.17190172, -1.75870783, -1.34551394, -0.93232006, -0.51912617,\n",
       "        -0.10593228,  0.30726161,  0.7204555 ,  1.13364939,  1.54684328,\n",
       "         1.96003717,  2.37323105,  2.78642494,  3.19961883,  3.61281272,\n",
       "         4.02600661,  4.4392005 ,  4.85239439,  5.26558827,  5.67878216,\n",
       "         6.09197605,  6.50516994,  6.91836383,  7.33155772,  7.74475161,\n",
       "         8.1579455 ]),\n",
       " <BarContainer object of 30 artists>)"
      ]
     },
     "execution_count": 56,
     "metadata": {},
     "output_type": "execute_result"
    },
    {
     "data": {
      "image/png": "[encoded data removed]",
      "text/plain": [
       "<Figure size 640x480 with 1 Axes>"
      ]
     },
     "metadata": {},
     "output_type": "display_data"
    }
   ],
   "source": [
    "plt.hist(model.coef_[0], bins=30)"
   ]
  },
  {
   "cell_type": "code",
   "execution_count": 58,
   "metadata": {},
   "outputs": [
    {
     "data": {
      "text/plain": [
       "{'united': 1849,\n",
       " 'change': 338,\n",
       " 'made': 1087,\n",
       " 'in': 938,\n",
       " 'just': 989,\n",
       " 'over': 1271,\n",
       " 'hours': 903,\n",
       " 'for': 745,\n",
       " 'something': 1619,\n",
       " 'that': 1737,\n",
       " 'should': 1575,\n",
       " 'have': 851,\n",
       " 'taken': 1711,\n",
       " 'online': 1246,\n",
       " 'am': 139,\n",
       " 'not': 1213,\n",
       " 'loved': 1076,\n",
       " 'the': 1739,\n",
       " 'agent': 112,\n",
       " 'though': 1755,\n",
       " 'door': 568,\n",
       " 'to': 1775,\n",
       " 'half': 826,\n",
       " 'into': 964,\n",
       " 'plane': 1334,\n",
       " 'seat': 1535,\n",
       " 'be': 235,\n",
       " 'forced': 746,\n",
       " 'always': 138,\n",
       " 'sit': 1591,\n",
       " 'here': 873,\n",
       " 'americanair': 143,\n",
       " '11': 6,\n",
       " 'out': 1266,\n",
       " 'of': 1227,\n",
       " 'delayed': 497,\n",
       " 'flights': 728,\n",
       " 'you': 1993,\n",
       " 'suck': 1682,\n",
       " 'and': 148,\n",
       " 'getting': 793,\n",
       " 'worse': 1971,\n",
       " 'fair': 670,\n",
       " 'usairways': 1868,\n",
       " 'stuck': 1677,\n",
       " 'need': 1191,\n",
       " 'reflight': 1438,\n",
       " 'booking': 270,\n",
       " 'problems': 1380,\n",
       " 'next': 1199,\n",
       " 'flight': 717,\n",
       " 'possibly': 1359,\n",
       " 'dm': 554,\n",
       " 'more': 1166,\n",
       " 'info': 951,\n",
       " 'southwestair': 1630,\n",
       " 'got': 810,\n",
       " 'help': 867,\n",
       " 'from': 765,\n",
       " 'nice': 1201,\n",
       " 'lady': 1007,\n",
       " 'on': 1241,\n",
       " 'phone': 1319,\n",
       " 'thank': 1734,\n",
       " 'refund': 1439,\n",
       " 'vouchers': 1892,\n",
       " 'or': 1255,\n",
       " 'another': 155,\n",
       " 'different': 532,\n",
       " 'airline': 120,\n",
       " 'at': 195,\n",
       " 'your': 1995,\n",
       " 'today': 1776,\n",
       " 'hour': 902,\n",
       " 'drive': 576,\n",
       " 'is': 966,\n",
       " 'very': 1883,\n",
       " 'inconvenient': 945,\n",
       " 'site': 1592,\n",
       " 'clearly': 373,\n",
       " 'we': 1914,\n",
       " 'are': 176,\n",
       " 'allowed': 129,\n",
       " 'carry': 320,\n",
       " 'this': 1751,\n",
       " 'was': 1902,\n",
       " 'pit': 1329,\n",
       " 'but': 294,\n",
       " 'bos': 271,\n",
       " 'how': 906,\n",
       " 'does': 557,\n",
       " 'make': 1093,\n",
       " 'sense': 1552,\n",
       " '23': 28,\n",
       " 'great': 813,\n",
       " 'service': 1557,\n",
       " 'all': 126,\n",
       " 'several': 1561,\n",
       " 'cancelled': 307,\n",
       " 'flightlations': 724,\n",
       " 'come': 389,\n",
       " 'want': 1899,\n",
       " 'go': 801,\n",
       " 'home': 886,\n",
       " 'can': 306,\n",
       " 'miss': 1152,\n",
       " 'day': 483,\n",
       " 'work': 1962,\n",
       " 'my': 1181,\n",
       " 'situation': 1594,\n",
       " 'now': 1221,\n",
       " 'due': 581,\n",
       " 'company': 399,\n",
       " 'mistake': 1155,\n",
       " 'delay': 496,\n",
       " 'nothing': 1216,\n",
       " 'being': 243,\n",
       " 'so': 1610,\n",
       " 'up': 1856,\n",
       " 'point': 1349,\n",
       " 'saying': 1527,\n",
       " 'what': 1930,\n",
       " 'leaving': 1027,\n",
       " 'please': 1343,\n",
       " 'follow': 741,\n",
       " 'missing': 1154,\n",
       " 'bag': 224,\n",
       " 'mileageplus': 1138,\n",
       " 'page': 1279,\n",
       " 'broken': 283,\n",
       " 'understand': 1843,\n",
       " 'they': 1745,\n",
       " 're': 1418,\n",
       " 'busy': 293,\n",
       " 'amp': 146,\n",
       " 'doing': 561,\n",
       " 'their': 1740,\n",
       " 'best': 246,\n",
       " 'frustration': 770,\n",
       " 'an': 147,\n",
       " 'automated': 207,\n",
       " 'call': 300,\n",
       " 'changing': 341,\n",
       " 'allowing': 130,\n",
       " 'me': 1109,\n",
       " 'talk': 1715,\n",
       " 'virginamerica': 1888,\n",
       " 'trying': 1816,\n",
       " 'advance': 103,\n",
       " '24': 29,\n",
       " 'prior': 1375,\n",
       " 'tried': 1806,\n",
       " 'it': 971,\n",
       " 'earlier': 587,\n",
       " 'wanted': 1900,\n",
       " 'fees': 689,\n",
       " 'thx': 1762,\n",
       " 'apology': 169,\n",
       " 'fix': 711,\n",
       " 'system': 1706,\n",
       " 'would': 1975,\n",
       " 'better': 248,\n",
       " 'actually': 96,\n",
       " 'still': 1663,\n",
       " 'apparently': 171,\n",
       " 've': 1881,\n",
       " 'flown': 732,\n",
       " 'times': 1770,\n",
       " 'last': 1017,\n",
       " 'weeks': 1922,\n",
       " 'those': 1754,\n",
       " 'experiences': 652,\n",
       " 'were': 1927,\n",
       " 'disappointed': 540,\n",
       " 'birthday': 254,\n",
       " 'applied': 173,\n",
       " 'trip': 1807,\n",
       " 'booked': 269,\n",
       " 'days': 484,\n",
       " 'before': 240,\n",
       " 'received': 1433,\n",
       " 'email': 601,\n",
       " 'screwed': 1533,\n",
       " 'maybe': 1106,\n",
       " 'tell': 1726,\n",
       " 'everyone': 632,\n",
       " 'about': 79,\n",
       " 'airport': 123,\n",
       " 'tech': 1724,\n",
       " 'guys': 822,\n",
       " 'http': 911,\n",
       " 'co': 382,\n",
       " 'ok': 1237,\n",
       " 'may': 1105,\n",
       " 'keep': 990,\n",
       " '25': 31,\n",
       " 'lose': 1068,\n",
       " 'with': 1951,\n",
       " 'no': 1204,\n",
       " 'longer': 1063,\n",
       " 'trust': 1814,\n",
       " 'bad': 221,\n",
       " 'way': 1912,\n",
       " 'handle': 828,\n",
       " 'yes': 1988,\n",
       " 'get': 791,\n",
       " 'act': 93,\n",
       " 'together': 1777,\n",
       " 'jetblue': 981,\n",
       " 'poorservice': 1356,\n",
       " '10': 2,\n",
       " '51': 59,\n",
       " 'bags': 226,\n",
       " 'frm': 764,\n",
       " 'our': 1265,\n",
       " 'fleet': 715,\n",
       " 'fleek': 714,\n",
       " 'fly': 735,\n",
       " 'anymore': 161,\n",
       " 'had': 823,\n",
       " 'good': 808,\n",
       " 'run': 1510,\n",
       " 'miami': 1132,\n",
       " 'rude': 1506,\n",
       " 'employee': 606,\n",
       " 'working': 1965,\n",
       " 'mia': 1131,\n",
       " 'lga': 1039,\n",
       " 'check': 352,\n",
       " 'she': 1568,\n",
       " 'experience': 650,\n",
       " 'think': 1748,\n",
       " 'having': 853,\n",
       " 'rough': 1498,\n",
       " 'moment': 1160,\n",
       " 'passenger': 1294,\n",
       " 'things': 1747,\n",
       " 'thanks': 1735,\n",
       " 'crew': 459,\n",
       " 'has': 846,\n",
       " 'been': 239,\n",
       " 'notified': 1219,\n",
       " 'moved': 1171,\n",
       " 'water': 1911,\n",
       " 'fixed': 712,\n",
       " 'tarmac': 1719,\n",
       " 'two': 1828,\n",
       " 'well': 1925,\n",
       " 'perhaps': 1310,\n",
       " 'could': 441,\n",
       " 'where': 1936,\n",
       " 'travel': 1796,\n",
       " 'between': 249,\n",
       " 'usa': 1866,\n",
       " 'only': 1247,\n",
       " 'nexus': 1200,\n",
       " 'worst': 1972,\n",
       " 'customer': 470,\n",
       " 'terrible': 1730,\n",
       " 'don': 565,\n",
       " 'care': 316,\n",
       " 'big': 251,\n",
       " 'storm': 1669,\n",
       " 'employees': 607,\n",
       " 'attitude': 203,\n",
       " 'haha': 825,\n",
       " 'same': 1519,\n",
       " 'lies': 1043,\n",
       " 'year': 1985,\n",
       " '50': 57,\n",
       " 'flightled': 725,\n",
       " 'done': 566,\n",
       " 'hell': 865,\n",
       " 'right': 1491,\n",
       " 'after': 108,\n",
       " 'll': 1055,\n",
       " 'do': 556,\n",
       " 'agents': 113,\n",
       " 'pleasant': 1342,\n",
       " 'less': 1032,\n",
       " 'than': 1733,\n",
       " 'sitting': 1593,\n",
       " 'waiting': 1895,\n",
       " 'deplane': 513,\n",
       " '40': 50,\n",
       " 'minutes': 1149,\n",
       " 'level': 1038,\n",
       " 'expect': 647,\n",
       " 'omg': 1240,\n",
       " 'nonstop': 1208,\n",
       " 'dallas': 478,\n",
       " 'austin': 205,\n",
       " 'virgin': 1887,\n",
       " 'internet': 961,\n",
       " 'thing': 1746,\n",
       " 'will': 1945,\n",
       " 'respond': 1477,\n",
       " 'timely': 1769,\n",
       " 'going': 804,\n",
       " 'compensate': 401,\n",
       " 'whose': 1941,\n",
       " 'plans': 1339,\n",
       " 'ruined': 1507,\n",
       " 'because': 237,\n",
       " 'pending': 1306,\n",
       " 'flightlation': 723,\n",
       " 'love': 1075,\n",
       " 'hold': 883,\n",
       " 'why': 1942,\n",
       " 'switched': 1704,\n",
       " 'loyalty': 1080,\n",
       " 'programs': 1386,\n",
       " 'showing': 1580,\n",
       " 'twitter': 1827,\n",
       " 'sure': 1695,\n",
       " 'like': 1045,\n",
       " 'one': 1244,\n",
       " 'interview': 962,\n",
       " 'person': 1312,\n",
       " 'mean': 1111,\n",
       " 'first': 708,\n",
       " 'arriving': 183,\n",
       " 'destination': 520,\n",
       " 'hrs': 910,\n",
       " 'late': 1018,\n",
       " 'denied': 505,\n",
       " 'use': 1871,\n",
       " 'car': 314,\n",
       " 'confirm': 417,\n",
       " 'actual': 95,\n",
       " 'policy': 1353,\n",
       " 'when': 1934,\n",
       " 'husband': 919,\n",
       " 'travels': 1801,\n",
       " 'chicago': 358,\n",
       " 'he': 855,\n",
       " 'connecting': 423,\n",
       " 'aa': 77,\n",
       " 'joke': 986,\n",
       " 'line': 1047,\n",
       " 'isn': 967,\n",
       " 'even': 627,\n",
       " 'calls': 304,\n",
       " 'hang': 833,\n",
       " '30': 38,\n",
       " 'runway': 1512,\n",
       " '15': 12,\n",
       " 'far': 675,\n",
       " 'air': 117,\n",
       " 'its': 975,\n",
       " 'play': 1341,\n",
       " 'according': 88,\n",
       " 'every': 631,\n",
       " 'see': 1542,\n",
       " 'if': 927,\n",
       " 'take': 1710,\n",
       " 'money': 1163,\n",
       " 'without': 1953,\n",
       " 'notice': 1217,\n",
       " 'any': 160,\n",
       " 'other': 1262,\n",
       " 'industry': 948,\n",
       " 'issued': 969,\n",
       " 'weight': 1923,\n",
       " 'try': 1815,\n",
       " 'as': 184,\n",
       " 'many': 1101,\n",
       " 'new': 1196,\n",
       " 'easy': 594,\n",
       " 'power': 1362,\n",
       " 'laptop': 1014,\n",
       " 'iphone': 965,\n",
       " 'boat': 267,\n",
       " 'cup': 465,\n",
       " 'holder': 884,\n",
       " 'know': 1000,\n",
       " 'asking': 189,\n",
       " 'little': 1053,\n",
       " 'gate': 786,\n",
       " 'customers': 471,\n",
       " 'houston': 905,\n",
       " 'engine': 611,\n",
       " 'problem': 1379,\n",
       " 'mechanics': 1115,\n",
       " 'safety': 1517,\n",
       " 'file': 697,\n",
       " 'complaint': 404,\n",
       " 'laguardia': 1008,\n",
       " 'who': 1939,\n",
       " 'people': 1307,\n",
       " 'yesterday': 1989,\n",
       " 'resolve': 1474,\n",
       " 'issues': 970,\n",
       " 'which': 1937,\n",
       " 'concern': 411,\n",
       " 'disappointment': 542,\n",
       " 'disregard': 551,\n",
       " 'business': 292,\n",
       " 'select': 1547,\n",
       " 'pushing': 1401,\n",
       " 'sold': 1612,\n",
       " 'strand': 1672,\n",
       " 'phx': 1321,\n",
       " 'three': 1757,\n",
       " 'ahead': 116,\n",
       " 'live': 1054,\n",
       " 'premium': 1368,\n",
       " 'route': 1500,\n",
       " 'lhr': 1040,\n",
       " 'excited': 642,\n",
       " 'time': 1768,\n",
       " 'course': 449,\n",
       " 'say': 1526,\n",
       " 'then': 1742,\n",
       " 'offer': 1229,\n",
       " 'transfer': 1793,\n",
       " 'disconnect': 544,\n",
       " 'fll': 729,\n",
       " 'told': 1778,\n",
       " 'train': 1791,\n",
       " 'back': 220,\n",
       " 'pbi': 1303,\n",
       " 'there': 1743,\n",
       " 'absolute': 81,\n",
       " '13': 8,\n",
       " 'maintenance': 1091,\n",
       " 'given': 796,\n",
       " 'family': 672,\n",
       " 'vacation': 1878,\n",
       " 'haven': 852,\n",
       " 'able': 78,\n",
       " 'anyone': 162,\n",
       " 'week': 1920,\n",
       " 'might': 1136,\n",
       " 'class': 368,\n",
       " 'states': 1656,\n",
       " 'says': 1528,\n",
       " 'res': 1467,\n",
       " 'already': 134,\n",
       " 'teach': 1722,\n",
       " 'them': 1741,\n",
       " 'bring': 280,\n",
       " 'leave': 1025,\n",
       " 'once': 1243,\n",
       " 'fee': 684,\n",
       " 'yay': 1982,\n",
       " 'book': 268,\n",
       " 'changes': 340,\n",
       " '200': 23,\n",
       " 'considering': 427,\n",
       " 'currently': 468,\n",
       " 'gold': 805,\n",
       " 'delta': 503,\n",
       " 'jump': 988,\n",
       " 'sfo': 1563,\n",
       " 'weather': 1915,\n",
       " 'bc': 233,\n",
       " 'hopefully': 893,\n",
       " 'everything': 633,\n",
       " 'goes': 803,\n",
       " 'award': 212,\n",
       " 'ewr': 635,\n",
       " 'treated': 1803,\n",
       " 'priority': 1376,\n",
       " 'inconvenience': 944,\n",
       " 'really': 1425,\n",
       " 'hr': 909,\n",
       " 'food': 744,\n",
       " 'voucher': 1891,\n",
       " 'catch': 323,\n",
       " 'pm': 1348,\n",
       " 'vegas': 1882,\n",
       " 'double': 570,\n",
       " 'wrong': 1978,\n",
       " 'incompetence': 942,\n",
       " 'by': 297,\n",
       " 'feel': 686,\n",
       " 'free': 757,\n",
       " 'look': 1064,\n",
       " 'realize': 1424,\n",
       " 'peanuts': 1305,\n",
       " 'previous': 1371,\n",
       " 'worstairlineever': 1973,\n",
       " 'party': 1290,\n",
       " 'doesn': 558,\n",
       " 'assist': 193,\n",
       " 'flts': 734,\n",
       " 'cmh': 380,\n",
       " 'since': 1588,\n",
       " 'folks': 740,\n",
       " 'patient': 1300,\n",
       " 'thought': 1756,\n",
       " 'lines': 1048,\n",
       " 'kind': 998,\n",
       " 'unfortunately': 1845,\n",
       " 'improve': 937,\n",
       " 'merger': 1124,\n",
       " 'reason': 1426,\n",
       " 'boarding': 265,\n",
       " 'assignment': 192,\n",
       " 'seriously': 1555,\n",
       " 'speak': 1632,\n",
       " 'someone': 1618,\n",
       " 'immediately': 933,\n",
       " 'offered': 1230,\n",
       " 'hate': 849,\n",
       " 'following': 743,\n",
       " '800': 72,\n",
       " 'baggage': 225,\n",
       " 'services': 1558,\n",
       " 'left': 1028,\n",
       " 'landed': 1011,\n",
       " 'couldn': 442,\n",
       " 'although': 137,\n",
       " 'long': 1062,\n",
       " 'appreciate': 174,\n",
       " 'prompt': 1390,\n",
       " 'response': 1480,\n",
       " 'date': 481,\n",
       " 'failing': 667,\n",
       " 'process': 1382,\n",
       " 'link': 1049,\n",
       " 'tsa': 1817,\n",
       " 'pre': 1365,\n",
       " 'oh': 1236,\n",
       " 'arrived': 182,\n",
       " 'ago': 114,\n",
       " 'stop': 1667,\n",
       " 'flying': 739,\n",
       " 'delays': 499,\n",
       " 'everytime': 634,\n",
       " 'paperwork': 1285,\n",
       " 'hung': 917,\n",
       " 'name': 1184,\n",
       " 'took': 1782,\n",
       " 'keeping': 991,\n",
       " '20min': 25,\n",
       " 'rep': 1453,\n",
       " 'hey': 874,\n",
       " 'calling': 303,\n",
       " 'wait': 1893,\n",
       " 'past': 1297,\n",
       " 'anything': 163,\n",
       " 'ever': 630,\n",
       " 'much': 1177,\n",
       " 'asked': 188,\n",
       " 'full': 775,\n",
       " '60': 62,\n",
       " 'old': 1239,\n",
       " 'mileage': 1137,\n",
       " 'plan': 1333,\n",
       " 'earn': 589,\n",
       " 'miles': 1139,\n",
       " 'ticket': 1763,\n",
       " 'prices': 1373,\n",
       " 'sunday': 1689,\n",
       " 'ny': 1224,\n",
       " 'real': 1423,\n",
       " '17': 15,\n",
       " 'needs': 1193,\n",
       " 'treat': 1802,\n",
       " 'respect': 1476,\n",
       " 'hardly': 843,\n",
       " 'usairwaysfail': 1869,\n",
       " 'mobile': 1158,\n",
       " 'ground': 815,\n",
       " 'each': 586,\n",
       " 'expensive': 649,\n",
       " 'traveling': 1800,\n",
       " 'both': 273,\n",
       " 'flightr': 727,\n",
       " 'sleep': 1600,\n",
       " 'tonight': 1780,\n",
       " 'cant': 311,\n",
       " 'give': 795,\n",
       " 'group': 816,\n",
       " 'ua': 1831,\n",
       " 'charlotte': 348,\n",
       " 'nobody': 1205,\n",
       " 'staff': 1645,\n",
       " 'horrible': 896,\n",
       " 'communication': 396,\n",
       " 'emails': 603,\n",
       " '2nd': 36,\n",
       " 'hasn': 847,\n",
       " 'said': 1518,\n",
       " 'neveragain': 1195,\n",
       " 'flt': 733,\n",
       " 'tells': 1728,\n",
       " 'wife': 1943,\n",
       " 'yr': 1996,\n",
       " 'aircanada': 118,\n",
       " 'yyz': 1998,\n",
       " 'customerservice': 472,\n",
       " 'dead': 488,\n",
       " 'seems': 1545,\n",
       " 'likely': 1046,\n",
       " 'place': 1331,\n",
       " 'didn': 527,\n",
       " 'extra': 657,\n",
       " 'until': 1855,\n",
       " 'tomorrow': 1779,\n",
       " 'myself': 1182,\n",
       " 'never': 1194,\n",
       " 'again': 110,\n",
       " 'messed': 1128,\n",
       " 'through': 1758,\n",
       " 'reservation': 1471,\n",
       " 'let': 1034,\n",
       " 'ridiculous': 1490,\n",
       " 'coming': 392,\n",
       " 'guess': 819,\n",
       " 'outlets': 1268,\n",
       " 'gonna': 807,\n",
       " 'us': 1865,\n",
       " 'forever': 748,\n",
       " 'card': 315,\n",
       " 'member': 1120,\n",
       " 'wonder': 1956,\n",
       " 'flightling': 726,\n",
       " 'complete': 406,\n",
       " 'show': 1578,\n",
       " 'bumped': 290,\n",
       " 'noon': 1209,\n",
       " '433': 52,\n",
       " 'happens': 839,\n",
       " 'notification': 1218,\n",
       " 'lots': 1073,\n",
       " 'upset': 1863,\n",
       " 'freezing': 758,\n",
       " 'terminal': 1729,\n",
       " 'kept': 993,\n",
       " 'beyond': 250,\n",
       " 'pass': 1291,\n",
       " 'while': 1938,\n",
       " 'standing': 1649,\n",
       " 'board': 263,\n",
       " 'second': 1540,\n",
       " 'spent': 1638,\n",
       " 'find': 703,\n",
       " 'asap': 185,\n",
       " 'mins': 1146,\n",
       " 'afternoon': 109,\n",
       " 'web': 1916,\n",
       " 'tweeting': 1824,\n",
       " 'min': 1142,\n",
       " 'cs': 463,\n",
       " 'request': 1462,\n",
       " 'airways': 125,\n",
       " 'forward': 752,\n",
       " 'probably': 1378,\n",
       " 'taking': 1714,\n",
       " '75': 68,\n",
       " 'fine': 705,\n",
       " 'police': 1351,\n",
       " 'win': 1947,\n",
       " 'saved': 1524,\n",
       " 'direct': 535,\n",
       " 'orlando': 1260,\n",
       " 'yo': 1991,\n",
       " 'ride': 1489,\n",
       " 'pilot': 1326,\n",
       " 'departure': 512,\n",
       " 'computer': 409,\n",
       " 'worked': 1963,\n",
       " 'bought': 275,\n",
       " 'own': 1277,\n",
       " 'rental': 1452,\n",
       " 'failed': 666,\n",
       " 'paid': 1280,\n",
       " 'awesome': 215,\n",
       " 'passengers': 1295,\n",
       " 'jfk': 983,\n",
       " 'team': 1723,\n",
       " 'share': 1566,\n",
       " 'needed': 1192,\n",
       " 'meeting': 1118,\n",
       " 'off': 1228,\n",
       " 'doors': 569,\n",
       " 'open': 1249,\n",
       " 'catering': 324,\n",
       " 'cool': 435,\n",
       " 'picture': 1324,\n",
       " 'most': 1168,\n",
       " 'horrendous': 895,\n",
       " 'planes': 1335,\n",
       " 'captain': 313,\n",
       " 'print': 1374,\n",
       " 'wtf': 1979,\n",
       " 'checking': 355,\n",
       " 'information': 952,\n",
       " 'numbers': 1223,\n",
       " 'number': 1222,\n",
       " 'did': 526,\n",
       " 'become': 238,\n",
       " 'black': 257,\n",
       " 'paris': 1287,\n",
       " 'nyc': 1225,\n",
       " 'losing': 1069,\n",
       " 'luggage': 1084,\n",
       " 'newark': 1197,\n",
       " 'rent': 1451,\n",
       " 'end': 609,\n",
       " 'stranded': 1673,\n",
       " 'these': 1744,\n",
       " 'common': 394,\n",
       " 'figure': 695,\n",
       " 'atl': 196,\n",
       " 'easier': 591,\n",
       " 'refunded': 1440,\n",
       " 'room': 1496,\n",
       " 'night': 1202,\n",
       " 'making': 1095,\n",
       " 'dia': 525,\n",
       " 'some': 1615,\n",
       " 'minor': 1145,\n",
       " 'too': 1781,\n",
       " 'apologies': 167,\n",
       " 'airlines': 121,\n",
       " 'frustrated': 768,\n",
       " 'wasted': 1906,\n",
       " 'equipment': 619,\n",
       " 'read': 1421,\n",
       " 'fail': 665,\n",
       " 'switch': 1703,\n",
       " 'gets': 792,\n",
       " 'disconnected': 545,\n",
       " 'companion': 398,\n",
       " 'hadn': 824,\n",
       " 'stopped': 1668,\n",
       " 'hotels': 900,\n",
       " 'truly': 1813,\n",
       " 'believe': 244,\n",
       " 'overhead': 1273,\n",
       " 'treatment': 1805,\n",
       " 'atrocious': 198,\n",
       " 'posted': 1361,\n",
       " 'watching': 1910,\n",
       " 'killing': 997,\n",
       " 'weekend': 1921,\n",
       " 'feedback': 685,\n",
       " 'basically': 231,\n",
       " 'fuck': 771,\n",
       " 'shopping': 1572,\n",
       " 'confirmation': 418,\n",
       " 'dca': 486,\n",
       " 'talking': 1717,\n",
       " 'sna': 1606,\n",
       " '20': 22,\n",
       " 'went': 1926,\n",
       " '18': 16,\n",
       " 'support': 1692,\n",
       " 'standby': 1648,\n",
       " 'status': 1657,\n",
       " 'shows': 1581,\n",
       " 'takeoff': 1712,\n",
       " 'depart': 507,\n",
       " 'certainly': 334,\n",
       " 'funny': 779,\n",
       " 'emailed': 602,\n",
       " 'found': 753,\n",
       " 'entire': 616,\n",
       " 'decent': 492,\n",
       " 'seats': 1538,\n",
       " 'wish': 1950,\n",
       " 'known': 1002,\n",
       " 'slept': 1602,\n",
       " 'friend': 761,\n",
       " 'lands': 1013,\n",
       " 'wifi': 1944,\n",
       " 'san': 1520,\n",
       " 'diego': 529,\n",
       " 'wasn': 1904,\n",
       " 'possible': 1358,\n",
       " 'conf': 415,\n",
       " 'sort': 1625,\n",
       " 'arrive': 181,\n",
       " 'instead': 956,\n",
       " 'tired': 1772,\n",
       " 'must': 1180,\n",
       " 'disaster': 543,\n",
       " 'missed': 1153,\n",
       " 'count': 444,\n",
       " 'soon': 1622,\n",
       " 'boarded': 264,\n",
       " '1st': 21,\n",
       " 'started': 1653,\n",
       " 'american': 142,\n",
       " 'gave': 788,\n",
       " 'tickets': 1765,\n",
       " 'away': 214,\n",
       " 'fault': 681,\n",
       " 'lost': 1071,\n",
       " 'eat': 595,\n",
       " 'yet': 1990,\n",
       " 'unitedsucks': 1852,\n",
       " 'issue': 968,\n",
       " 'lack': 1006,\n",
       " 'announcement': 151,\n",
       " 'put': 1402,\n",
       " 'platinum': 1340,\n",
       " 'desk': 518,\n",
       " 'him': 878,\n",
       " 'based': 230,\n",
       " 'his': 880,\n",
       " 'seem': 1544,\n",
       " 'enough': 613,\n",
       " 'lol': 1060,\n",
       " 'btw': 287,\n",
       " 'speaking': 1633,\n",
       " 'month': 1164,\n",
       " 'shout': 1577,\n",
       " 'rock': 1494,\n",
       " 'pretty': 1369,\n",
       " 'rebooked': 1430,\n",
       " 'aren': 178,\n",
       " 'answering': 158,\n",
       " 'stay': 1658,\n",
       " 'warm': 1901,\n",
       " '90': 75,\n",
       " 'connection': 424,\n",
       " 'supposed': 1694,\n",
       " 'discuss': 547,\n",
       " 'matter': 1103,\n",
       " 'badcustomerservice': 222,\n",
       " 'hundreds': 916,\n",
       " 'also': 135,\n",
       " 'southwest': 1629,\n",
       " 'incident': 940,\n",
       " 'sw': 1700,\n",
       " 'update': 1857,\n",
       " 'idea': 925,\n",
       " 'fortunemagazine': 751,\n",
       " 'cnn': 381,\n",
       " 'hoping': 894,\n",
       " 'answer': 156,\n",
       " 'okay': 1238,\n",
       " 'jan': 977,\n",
       " 'phoenix': 1318,\n",
       " 'least': 1024,\n",
       " 'daughter': 482,\n",
       " 'seated': 1536,\n",
       " 'near': 1189,\n",
       " 'upgrades': 1862,\n",
       " 'sent': 1553,\n",
       " 'nightmare': 1203,\n",
       " 'ugh': 1833,\n",
       " 'heart': 863,\n",
       " 'counting': 446,\n",
       " 'reservations': 1472,\n",
       " 'serious': 1554,\n",
       " 'wouldn': 1976,\n",
       " 'won': 1955,\n",
       " 'computers': 410,\n",
       " 'reply': 1456,\n",
       " 'assistance': 194,\n",
       " 'workers': 1964,\n",
       " 'cuz': 474,\n",
       " 'members': 1121,\n",
       " 'looking': 1066,\n",
       " 'heads': 859,\n",
       " 'takes': 1713,\n",
       " 'pathetic': 1298,\n",
       " 'mint': 1147,\n",
       " 'lax': 1020,\n",
       " 'pls': 1345,\n",
       " 'routes': 1501,\n",
       " 'las': 1016,\n",
       " 'aus': 204,\n",
       " 'filled': 700,\n",
       " 'claim': 365,\n",
       " 'hope': 891,\n",
       " 'main': 1089,\n",
       " 'cause': 325,\n",
       " 'totally': 1785,\n",
       " '3am': 46,\n",
       " 'holding': 885,\n",
       " 'monday': 1162,\n",
       " 'ask': 187,\n",
       " 'poor': 1354,\n",
       " 'including': 941,\n",
       " 'flightations': 719,\n",
       " 'mexico': 1130,\n",
       " 'top': 1783,\n",
       " 'inflight': 950,\n",
       " 'speed': 1635,\n",
       " 'ended': 610,\n",
       " 'tv': 1822,\n",
       " 'ways': 1913,\n",
       " 'plus': 1346,\n",
       " 'iad': 920,\n",
       " 'swa': 1701,\n",
       " 'lot': 1072,\n",
       " 'purchase': 1398,\n",
       " 'details': 522,\n",
       " 'almost': 131,\n",
       " 'option': 1253,\n",
       " 'unacceptable': 1837,\n",
       " 'hi': 875,\n",
       " 'father': 680,\n",
       " 'wheelchair': 1933,\n",
       " 'dad': 476,\n",
       " 'further': 781,\n",
       " 'aircraft': 119,\n",
       " 'submitted': 1680,\n",
       " 'via': 1884,\n",
       " 'followed': 742,\n",
       " 'heard': 861,\n",
       " 'blaming': 260,\n",
       " 'word': 1960,\n",
       " 'attendants': 201,\n",
       " 'meal': 1110,\n",
       " 'happened': 837,\n",
       " 'huge': 913,\n",
       " 'frustrating': 769,\n",
       " 'cut': 473,\n",
       " 'dfw': 523,\n",
       " 'trueblue': 1812,\n",
       " 'points': 1350,\n",
       " 'within': 1952,\n",
       " 'cost': 438,\n",
       " 'set': 1560,\n",
       " 'attendant': 200,\n",
       " 'multiple': 1178,\n",
       " 'filed': 698,\n",
       " 'credit': 457,\n",
       " 'courtesy': 451,\n",
       " 'whole': 1940,\n",
       " 'phl': 1316,\n",
       " 'load': 1056,\n",
       " 'honor': 890,\n",
       " 'shocked': 1571,\n",
       " 'drinks': 575,\n",
       " 'checked': 353,\n",
       " 'available': 210,\n",
       " 'except': 640,\n",
       " 'middle': 1133,\n",
       " 'gone': 806,\n",
       " 'snow': 1609,\n",
       " 'flew': 716,\n",
       " 'final': 701,\n",
       " 'carrier': 318,\n",
       " 'gt': 817,\n",
       " 'appears': 172,\n",
       " 'confirmed': 419,\n",
       " 'flighted': 721,\n",
       " 'gotta': 811,\n",
       " 'pay': 1301,\n",
       " 'hotel': 899,\n",
       " 'giving': 798,\n",
       " 'rooms': 1497,\n",
       " 'happen': 836,\n",
       " 'flyers': 737,\n",
       " 'provide': 1392,\n",
       " 'such': 1681,\n",
       " 'space': 1631,\n",
       " 'drink': 574,\n",
       " 'global': 800,\n",
       " 'lounge': 1074,\n",
       " 'https': 912,\n",
       " 'ice': 922,\n",
       " 'visit': 1889,\n",
       " 'mother': 1169,\n",
       " 'reps': 1461,\n",
       " 'helpful': 869,\n",
       " 'friendly': 762,\n",
       " 'aware': 213,\n",
       " 'buy': 295,\n",
       " 'understaffing': 1842,\n",
       " 'mistakes': 1156,\n",
       " 'flyer': 736,\n",
       " 'pissed': 1328,\n",
       " '777': 69,\n",
       " 'kudos': 1004,\n",
       " 'adding': 99,\n",
       " 'passbook': 1292,\n",
       " 'app': 170,\n",
       " 'cab': 298,\n",
       " 'wet': 1929,\n",
       " 'clothes': 376,\n",
       " 'bus': 291,\n",
       " 'bdl': 234,\n",
       " 'dc': 485,\n",
       " 'unitedairlines': 1850,\n",
       " 'appreciated': 175,\n",
       " 'quality': 1405,\n",
       " 'brother': 284,\n",
       " 'clt': 377,\n",
       " 'driving': 577,\n",
       " 'text': 1732,\n",
       " 'exactly': 637,\n",
       " '35': 43,\n",
       " 'airplane': 122,\n",
       " 'bathroom': 232,\n",
       " 'items': 973,\n",
       " 'value': 1880,\n",
       " 'fi': 693,\n",
       " 'access': 86,\n",
       " '19': 18,\n",
       " 'oscars': 1261,\n",
       " ...}"
      ]
     },
     "execution_count": 58,
     "metadata": {},
     "output_type": "execute_result"
    }
   ],
   "source": [
    "word_index_map = vectorizer.vocabulary_\n",
    "word_index_map"
   ]
  },
  {
   "cell_type": "code",
   "execution_count": 61,
   "metadata": {},
   "outputs": [
    {
     "data": {
      "text/plain": [
       "1999"
      ]
     },
     "execution_count": 61,
     "metadata": {},
     "output_type": "execute_result"
    }
   ],
   "source": [
    "max(word_index_map.values())"
   ]
  },
  {
   "cell_type": "code",
   "execution_count": 63,
   "metadata": {},
   "outputs": [
    {
     "name": "stdout",
     "output_type": "stream",
     "text": [
      "{'southwestair': 2.860075664830715, 'thank': 8.070503978251411, 'great': 5.208733897363029, 'best': 3.636864282516037, 'virginamerica': 3.2284047967743144, 'thx': 2.808325087948863, 'jetblue': 3.021616302483301, 'good': 3.261536914402458, 'thanks': 8.157945495519735, 'love': 4.405152711236884, 'appreciate': 2.929926451119302, 'awesome': 4.054714104267736, 'cool': 2.0881519343394754, 'kudos': 2.6141836318103144, 'amazing': 4.194647955634698, 'worries': 2.7116513041026713, 'wonderful': 2.120412437681552}\n"
     ]
    }
   ],
   "source": [
    "word_weight = {}\n",
    "threshold = 2 \n",
    "\n",
    "for word, index in word_index_map.items():\n",
    "    weight = model.coef_[0][index]\n",
    "    if weight > threshold:\n",
    "        word_weight[word] = weight \n",
    "\n",
    "print(word_weight)\n"
   ]
  },
  {
   "cell_type": "code",
   "execution_count": 64,
   "metadata": {},
   "outputs": [
    {
     "name": "stdout",
     "output_type": "stream",
     "text": [
      "{'hours': -3.180120172850759, 'not': -4.237871165125338, 'delayed': -2.704527095981196, 'hour': -2.0696846300822695, 'but': -2.2210484579612495, 'cancelled': -2.677062192859444, 'nothing': -2.0768244801901394, 'what': -2.014376186186892, 'no': -3.970836170668499, 'worst': -3.190035509679462, 'hold': -2.79023154067122, 'why': -2.2269879893924536, 'luggage': -2.162544497772418}\n"
     ]
    }
   ],
   "source": [
    "negative_word_weight = {}\n",
    "threshold = 2 \n",
    "\n",
    "for word, index in word_index_map.items():\n",
    "    weight = model.coef_[0][index]\n",
    "    if weight < -threshold:\n",
    "        negative_word_weight[word] = weight \n",
    "\n",
    "print(negative_word_weight)\n"
   ]
  },
  {
   "attachments": {},
   "cell_type": "markdown",
   "metadata": {},
   "source": [
    "<h4> Find Negative Review Where the Model Output is closest to 1 </h4>"
   ]
  },
  {
   "cell_type": "code",
   "execution_count": 69,
   "metadata": {},
   "outputs": [
    {
     "data": {
      "text/plain": [
       "(2886, 2000)"
      ]
     },
     "execution_count": 69,
     "metadata": {},
     "output_type": "execute_result"
    }
   ],
   "source": [
    "X_test.toarray().shape"
   ]
  },
  {
   "cell_type": "code",
   "execution_count": 77,
   "metadata": {},
   "outputs": [
    {
     "data": {
      "text/plain": [
       "array([1, 0, 1, ..., 0, 0, 0], dtype=int64)"
      ]
     },
     "execution_count": 77,
     "metadata": {},
     "output_type": "execute_result"
    }
   ],
   "source": [
    "Y_test.values"
   ]
  },
  {
   "cell_type": "code",
   "execution_count": 78,
   "metadata": {},
   "outputs": [
    {
     "data": {
      "text/plain": [
       "1"
      ]
     },
     "execution_count": 78,
     "metadata": {},
     "output_type": "execute_result"
    }
   ],
   "source": [
    "Y_test.values[2]"
   ]
  },
  {
   "cell_type": "code",
   "execution_count": 76,
   "metadata": {},
   "outputs": [
    {
     "data": {
      "text/plain": [
       "array([0.67816671, 0.0272425 , 0.65631993, ..., 0.16207655, 0.05638737,\n",
       "       0.05292895])"
      ]
     },
     "execution_count": 76,
     "metadata": {},
     "output_type": "execute_result"
    }
   ],
   "source": [
    "PR_test"
   ]
  },
  {
   "cell_type": "code",
   "execution_count": 79,
   "metadata": {},
   "outputs": [],
   "source": [
    "False_positive=[]\n",
    "for i in range(X_test.toarray().shape[0]):\n",
    "    if Y_test.values[i] == 0 and PR_test[i] > 0.5:\n",
    "        False_positive.append(i)\n",
    "        \n"
   ]
  },
  {
   "cell_type": "code",
   "execution_count": 80,
   "metadata": {},
   "outputs": [
    {
     "name": "stdout",
     "output_type": "stream",
     "text": [
      "[36, 96, 222, 333, 412, 557, 593, 640, 780, 818, 999, 1060, 1206, 1249, 1316, 1466, 1711, 1801, 1854, 1901, 1949, 1960, 2054, 2067, 2125, 2128, 2302, 2412, 2457, 2465, 2525, 2565, 2591, 2827, 2851]\n"
     ]
    }
   ],
   "source": [
    "print(False_positive)"
   ]
  },
  {
   "cell_type": "code",
   "execution_count": 83,
   "metadata": {},
   "outputs": [
    {
     "name": "stdout",
     "output_type": "stream",
     "text": [
      "@united thanks for that advice, so helpful. Can't believe you guys actually charge people to \"fly\" united\n",
      "@SouthwestAir Twitter says I can't DM someone unless they follow me.  Can @SouthwestAir follows my twitter? thanks you.\n",
      "@SouthwestAir oh, ok!  all good!  looking forward to escaping the cold for a bit!  thanks!\n",
      "@united thats weak. See ya 👋\n",
      "Hey @VirginAmerica !!\n",
      "@JetBlue Thanks for the THIRD gate change http://t.co/UfBdr5AxeO\n",
      "@SouthwestAir Im just praying you get me home alive\n",
      "@VirginAmerica amazing to me that we can't get any cold air from the vents. #VX358 #noair #worstflightever #roasted #SFOtoBOS\n",
      "@AmericanAir a confirmed flight. I'm so done! Thanks for nothing!\n",
      "@VirginAmerica on flight VX399 headed to LA from JFK - dirtiest VA plane I have ever been on. Sad for a great airline.\n",
      "@SouthwestAir thank you for Cancelled Flighting my flight, last minute of course, to #GIS2015. I'm now missing one full day of my trip thanks to this!\n",
      "@united good try but @SouthwestAir got her here safer and sooner\n",
      "@SouthwestAir thanks a lot for sending a \"special deal\" with @Budget. Getting screwed is the best when on vacation #sarcasm get new partners\n",
      "@AmericanAir thanks for the canned reply.\n",
      "@united unless it's on you guys, im good.\n",
      "@JetBlue well, now I'll make sure to never fly JetBlue\n",
      "@SouthwestAir used to love you, but you keep rescheduling my flights.  #southworst\n",
      "@USAirways You guys are screwing up my trip. Thanks for nothing. #lazy\n",
      "@JetBlue I travel for business twice a week and after the @AmericanAir fiasco, I'll be flying blue more often. Thanks.\n",
      "@JetBlue Rats, that's a bummer!\n",
      "@SouthwestAir thanks! I expected a wait... Just not that long. :)\n",
      "@USAirways suggest you failures make a HUGE donation to @the_USO  Charlotte, NC as THEY provided GREAT customer service today, unlike you.\n",
      "@united thanks for having ground crews that are surprised when flights arrive. #beingsuckontarmacsucks!\n",
      "@SouthwestAir would be great if I atleast was next to my husband who is flying in the same reservation\n",
      "@USAirways I hope so, too. Thank you for your help. She traveled halfway across the globe and just wants her suitcase.\n",
      "@SouthwestAir Just landed in PHL. Row 9 window cover on N366SW could use some LUV. http://t.co/WQZZtIemX0\n",
      "@SouthwestAir @dultch97 that's horse radish 😤🐴\n",
      "@JetBlue Usually I have such a great experience with you guys? Very, very unhappy with you right now.\n",
      "@USAirways thanks for overFlight Booking Problems first class and automatically downgrading my upgrade 3 min before boarding. #ffstatusdontmatter #thenewaa\n",
      "@JetBlue Thanks. So the delay was the result of scheduling issues more than weather reLate Flightd problems?\n",
      "@SouthwestAir cool the plane you said is ours that just left the terminal for a diff city? She a cold betch for \"flying the friendly skies\"\n",
      "@united's first-class #cockup\n",
      "http://t.co/oh7CFv7DHR\n",
      "@USAirways yeah, the mark was like a mile back. Also we're an hour Late Flight. So thanks a ton for the great service today.\n",
      "@SouthwestAir Thank you.  Twitter says I can't DM someone unless they follow me.  Can @SouthwestAir follows my twitter?\n",
      "@united Dmed you. Thank you\n",
      "@SouthwestAir you do a great job of achieving that at most cities, just not at BWI.\n"
     ]
    }
   ],
   "source": [
    "for i in False_positive:\n",
    "    print(df_test[\"text\"].values[i])"
   ]
  },
  {
   "attachments": {},
   "cell_type": "markdown",
   "metadata": {},
   "source": [
    "<h4> Find Positive Review Where the Model Output is closest to 0 </h4>"
   ]
  },
  {
   "cell_type": "code",
   "execution_count": 84,
   "metadata": {},
   "outputs": [
    {
     "name": "stdout",
     "output_type": "stream",
     "text": [
      "@SouthwestAir Making Miracles again! The customer service department gave me by far one of the friendliest phone calls ever. #wheelsup\n",
      "Thank you United! “@united: @dan_roam That's a beautiful place to stay a day longer. Have you been re-booked? If not, let me know. ^MN”\n",
      "@AmericanAir @beantownmatty Sounds like a date!\n",
      ".@AmericanAir @TyWinter it's really the small things--the details--that make an excellent experience or a really irritating one.\n",
      "@USAirways see you on board tomorrow\n",
      "@united one lady helping the 12 of us with luggage\n",
      "@AmericanAir yes called your UK number on skype…well worth the $.50.  i recommend others do the same.\n",
      "@united have reported it.  Still in Istanbul at the moment apparently.  On the other plane haha.  Hats off to the pilot!\n",
      "@AmericanAir I might look into that. My wife travels much more than I do. Could we both use the membership?\n",
      "@USAirways Well I did miss it. But gate agents had rebooked boarding pass waiting when I landed. Time for lunch &amp; a beverage. Easy cheesy\n",
      "@JetBlue Well, thankfully they've got a nice food court here...When will an update be posted?\n",
      "@united thnx for the info\n",
      "@VirginAmerica yes, nearly every time I fly VX this “ear worm” won’t go away :)\n",
      "@SouthwestAir @ PIT- Gate A1! Big shout out to the lady trying to track him down!\n",
      "@VirginAmerica I mean. Probably inappropriate while on board.. But, it's on!\n",
      "@SouthwestAir @bgr1061 luv SWA myself and my employees use you always!!\n",
      "@united Hubby made it by the skin of his teeth!   :)\n",
      "@USAirways thanks!  Can you help remind the agents it's ok?  Ps. Heard rumors of a streaming wifi TV/movie service you might be installing\n",
      "@JetBlue no, but we're on the flight leaving from Boston to Seattle right now. :) flight 597\n",
      "@united Life goal: complete ✔️\n",
      "@united private jet would have been cool! Do does not work. I'll try again\n",
      "@united have Michelle at T1 ORD train your other staff on how to treat customers. A refreshing pleasure to deal with.\n",
      "@JetBlue thanks to O StBernard for taking time to read through page to find info as supervisor felt to insist tho I showed previous comm\n",
      "@united flew from sdf to ATL to Tampa on Delta. Left early. Arrived early. Crew helpful. Wifi worked!!\n",
      "@USAirways Sending thanks to employee Freddie in PHL Admiral Club A East for allowing me to give a day pass to my sibling stuck there today.\n",
      "@AmericanAir Flight for tomorrow was Cancelled Flightled. New one booked. Seats taken care of. Just a tweet to commend you all on the service. Thanks!\n",
      "@USAirways Painless and effortless flight from Indy to PHL... Our flight attendant, Tory, was fantastic. Give that lady a raise ASAP!\n",
      "@SouthwestAir @FortuneMagazine Superb choice - SWA. I am a raving fan. They even take stress out of weather-reLate Flightd glitches!  #custexp\n",
      "@united I hope so too :)\n",
      "@SouthwestAir please do. Hate having to fly a different airline. You're my fav.\n",
      "@VirginAmerica happy to spend the day together. Let's do this!\n",
      "@USAirways #ShoutOut 2 Kristie(sp?) from Gate4 @ PVD today. She's a #RockStar, was a tremendous help in a tough situation. #PromoteThatGirl\n",
      "@united Looks like they came through. Thanks again for the help.\n",
      "@JetBlue nothing but praise for you helping our lady make her flight to CHS tonight!  #impressed\n",
      "@SouthwestAir Just watched crew on flight 380 help elderly lady off plane...#firstclass\n",
      "@SouthwestAir your flight attendants are really funny!! The sass is giving me life!!! 😂\n",
      "@AmericanAir continues to win: I've never missed a flight before, but a nice little quiet gate change made it possible. Sheesh.\n",
      "@USAirways thanks for helping with #reFlight Booking Problems #Cancelled Flightedflight Yvonne Anthony.  You will help us get to Tel Aviv on time.  #HappyFriday\n",
      "@SouthwestAir I'm excited too, but perhaps you could scale your excitement back by a few weeks...\n",
      "@SouthwestAir I managed to get sorted out over the phone. Good luck dealing with the snow in Texas!\n",
      "@united All flights Cancelled Flighted :( Trip refunded without difficulty, staff extremely helpful, no complaints! Way to handle bad weather!\n",
      "@JetBlue sooo earlier i said i couldnt fly with you for my school trip but now i can! 😏\n",
      "@VirginAmerica that doesn't look to fat to me! It looks yummy!\n",
      "@USAirways we will...sunday! Just a few days away\n",
      "@JetBlue I can't say what airline I am on right now, but I sincerely miss you. #bestairline\n",
      "@united that's great! pls let me know when u start!\n",
      "@JetBlue shows us their sense of humor with these tongue-in-cheek flight etiquette videos: http://t.co/GGuAA1JvDF\n",
      "@SouthwestAir so glad u guys do business w/ more class than UR competitors @SpiritAirlines 😏\n",
      "@united thank you. There was one here a few months ago, but none now. Weird you don't have a club in one of the busiest airports in the US.\n",
      "@SouthwestAir sure thing\n",
      "@SouthwestAir Received awesome phone help from Jim today. Helped me switch around flights booked with points.\n",
      "@JetBlue to offer service from Daytona Beach to New York - Albany Business Review http://t.co/dUhBJ41jHx\n",
      "@AmericanAir if I could fly an md80/dc10 I would be so happy I live that plane so much md80 is love md80 is life.\n",
      "@united that's exactly the point. It fits. I'm premier access. Boarding group 2. This was a return ticket. I've been doing this for 15 yrs\n",
      "@SouthwestAir telling my Fam in Vegas now. :)\n",
      "@AmericanAir my boss is :)\n",
      "@JetBlue you don't remember our date Monday night back to NYC? #heartbroken\n",
      "@united it was such a lovely part of this long day - attendants on UA5168 (most) /UA795 were beyond exceptional today. #GiveThoseLadiesRaise\n",
      "@USAirways I wasnt  flying your airline tonight, however a friend was and I was present for her help. I flying United and they could learn.\n",
      "@JetBlue I'll see you on board again soon!\n",
      "Happy #TT to my friends @AmericanAir . Hope the weather isn't causing you too many headaches.\n",
      "@JetBlue thanks for getting us to NYC -JFK really safely. :-) But srsly? How long does it take to get our checked bags? #eternity #5amMisery\n",
      "@AmericanAir although you have no control of the weather, you came through with a great customer service\n",
      "@united So excited I was put on an earlier flight to get home! Woo Hoo! #travel 🎉🎉🎉\n",
      "@united When are you coming back to @IFlyOAKland? You have a huge East Bay customer base due to SFO and *I* miss you!\n",
      "@SouthwestAir The Fact That U See Black History Month 12 Months A Year Is Honorable! We WILL BE An Economic Base For Corp. Like U In Future!\n",
      "@united  4 reFlight Booking Problemss in last 2 days and each time united wait time was &lt;5 seconds! Kudos to you for excellent customer service!\n",
      "@United WiFi onboard 737-800 far superior in pricing and performance (user-perceived bandwidth and Late Flightncy) to recent @GoGo experiences.\n",
      "@united did I win :)\n",
      "@SouthwestAir crew on flight 206 is awesome! Tell them I sent this tweet and maybe they will give me free wifi... #canthurtasking\n",
      "Just got off the phone @AmericanAir customer service. Only 8 minutes to get my issue resoled. You guys are awesome.\n",
      "@united - thanks for your help...got me what I need, but its an issue with @_austrian . I guess I sit awhile longer.\n",
      "@JetBlue Beatriz and Susan. Gate 4 MCO.\n",
      "@USAirways but don't worry! They found a hotel, it's only 45min away. I got there around 11:30pm, no problem.\n",
      "BY THE GRACE OF GOD, I MADE IT! “@USAirways: @__RWG__ We don't have those powers in here. We hope you can make that flight.”\n",
      "@AmericanAir Haha I had a boarding pass for 12B, was boarding the plane and the gate agent told me to go to 41G. I'm here now. No worries.\n",
      "@united yes #LHRT2 lounge is fantastic, if only the US ones could be remotely similar!\n",
      "“@united: @SonyaSloanMD Happy to have had you on board. Please share details here: http://t.co/2TrgEMteBZ ^KP” Done!\n",
      "@united and to add to my earlier tweet. This was my daughters 5th Bday present. Thank you for the hard work and making it happen.\n",
      "@JetBlue FYI, I'm onboard #616 comfortably travelling to JFK, seat was no problem as you said. Thanks for making flying more civilized!\n",
      "Very quick! TY. @united: @auciello I am sorry to hear this. Can you please follow and DM me the details of what transpired? ^JH\n",
      "@AmericanAir we are off to Kax premium.  Hoping this flight is better food, TV now I know how to work it and service. Tnx\n",
      "@united sorry to hear outsourcing plan. Boise is best staff/cust service in the country. #boise\n",
      "@USAirways we were moved to a delta direct. Thank you for the accommodations!\n",
      "@AmericanAir flights have been on time Late Flightly though!\n",
      "@USAirways Shout out to the red-headed gate agent for flt 3389 from DCA to CHS at 7:10 tonight. Didn't get her name but she was great!\n",
      "@JetBlue this makes me happy. I hope these aren't empty promises.\n",
      "@united Resolved. Over hour of work on  ground &amp; somehow the system reset itself during takeoff. I appreciate the quick response/service.\n",
      "@SouthwestAir That guy was the flight attendant on my last flight… he was hilarious! ☺\n",
      "@USAirways HA!  You're fun.\n",
      "@AmericanAir will award me 50,000 air miles!!! Yes I am going to take a vacation! \n",
      "#thanksamericanairlines\n",
      "Cc @DadBoner  #boldflavors “@united: We’re bringing Bourbon St. to 35,000 ft. with bold flavors, fresh ingredients and more dining options\"\n",
      "@SouthwestAir I got a flight at 11:55am on Thursday but looking for something tomorrow, anything available?\n",
      "@AmericanAir Your response has been incredible. Truly amazed at the steps you have taken to enhance your customer relations. Big thank you 😄\n",
      "@JetBlue sure is 💙\n",
      "@USAirways @AmericanAir @SVLLINDIA provides you the best logistics experience for people all over India.\n",
      "#Mumbai #Surat #NaviMumbai\n",
      "@united @FlyANA_official pleasantly surprised to find ANA has made major upgrades on their transpacific route in flights, planes and service\n",
      "@JetBlue I agree!!!  If only there was a frequent tweeter discount so I could fly to see more friends! 😀@Tinman2IronMan @meggersrocks\n",
      "@SouthwestAir first time flying with you. You've definitely won me over!\n",
      "@USAirways thanks for reaching out to me.  My Gold Div no. 2k424j0. My Flights were changed under Confirmation # DNX58V.\n",
      "@USAirways  that would be lovely! You have great people working in your organization.\n",
      "@SouthwestAir you are lucky to have people like Annamarie and Norris at BWI. I hope they get recognized for excellent cust. service\n",
      "@united met with agent. All taken care of. Thx for reply\n",
      "@SouthwestAir @TMadCLE Flying with you in April, first time on southwest. Can't wait!!! Flew American airlines last time. Was meh.\n",
      "@united he has no priority and Iove it\n",
      "@united thank you for compensating us for our 4 lost bags. We will fly with you again! #UnitedAirlines\n",
      "@USAirways Thks US #1786 2/19 PHL to FLL. Overall 1st class has improved with more food now on PHL to FLL and most crews are super.\n",
      "@USAirways I miss you too. Work has taken me out of Philly. I’ve been on flight 1776 from BOS —&gt; PHL so many times I should have a res. seat\n",
      "@VirginAmerica love the 90s music blasting at gate in #Boston while waiting for flight to #SanFrancisco. Only if I could get an iced coffee!\n",
      "@united Fantastic job by your people today on ua22 from Dublin. A jam packed plane but the crew was wonderful!!\n",
      "@JetBlue wow, keeping up with the times...\n",
      "@USAirways ok thank you we were told ground delay due to snow.\n",
      "@united just wanted to let you know how wonderful Rosetta the gate agent was working flight 6457 Dan to Ase. Let her know she wasappreciated\n",
      "@SouthwestAir I tweeted several times last week about flight info during storm, always a timely tweet back.  Thx! 😄\n",
      "@AmericanAir My pleasure, next AA flight - this Wednesday to Milan, Italy for @MIDOExhibition -- See you then! :)\n",
      "@AmericanAir No apology necessary. It was wind and I was on Delta. XOXO\n",
      "@SouthwestAir Thx Ops Agt Rich Westagard n Flight Att. Nancy @ DEN Airport.Held flight 1027 n even saved seat 4 Bus Select #CustomersFirst!\n",
      "@JetBlue Thx for the quick response .... yep I tried- but it can't find the flight when I Input the Confirmation #\n",
      "@SouthwestAir me &amp; @sammi_jon3s are best friends because of @Imaginedragons. Any chance we could get tickets to #DestinationDragons ?\n",
      "@united thanks ... not sure arranged move to the earlier flight but I'm at the gate with a seat assignment.  Super nice agent at gate C4 ORD\n",
      "@USAirways - so far so good this week. SAV to CLT boarded BEFORE the departure time (first time in 4 weeks). Perhaps an on time departure?!\n",
      "@JetBlue keep going back and forth with being able to board and then not. But great agents in savannah!\n",
      "@united thanks for the reply.  If you can get me a better seat on my next leg to Munich. That would be nice.\n",
      "@JetBlue Even though this flight #226 didn't have much needed hot beverages 4 us NY-ers, the landing was super smooth 👍👍 😊 #happytweet\n",
      "@SouthwestAir once or twice a year. Hard to get vacation time from work sometimes. But love flying with you guys!\n",
      "@united all good man it isn't your fault that plane is having maintenance issues\n",
      "Why “@JetBlue: Our fleet's on fleek. http://t.co/a7NvbJ8ipx”\n",
      "@united just confirmed a seat! Crisis averted! Beers won't be missed now\n",
      "Thank you “@united: @TRUU_Tall I can certainly take a look. Please follow and DM me your confirmation number for assistance. ^JH”\n",
      "@USAirways lol me too\n",
      "@USAirways Welcome to North Texas US Air / American Air employees. \n",
      "Housing and Education are great opportunities in The GR8 State Of Texas\n",
      "@united as u might imagine, this former pilot was particularly touched by the gesture. Please let the FO know #keepingtraditionsalive\n",
      "@AmericanAir btw you guys should consider making a lounge at Austin Intl. airport! Very popuLate Flightd area! Will help the company for sure👌\n",
      "\"LOL you guys are so on it\" - me, had this been 4 months ago...“@JetBlue: Our fleet's on fleek. http://t.co/LYcARlTFHl”\n",
      "@USAirways it was customer service like I have never seen before!  Kudos to your organization.\n",
      "@JetBlue sent :-) curious to see what kind of comp we get.\n",
      "@SouthwestAir I wish i would've seen this 4 hours ago!!! I WANTED TO SEE THEM TONIGHT SO BAD!!!! #CRYING\n",
      "@USAirways Shavon at customer service desk in Charlotte was fantastic! So helpful and smiling evn after what sounds like long day.Reward her\n",
      "@united You delayed a connection for customer service today now I'll be able to pay my final respects to a dear family member. Thank you :)\n",
      "@united ok, have sent u info via DM. I appreciate your help and consideration. 😊\n",
      "@united This is probably the least dependable airline in the Western Hemisphere. @united does not belong in Star Alliance, but SkyTeam\n",
      "@AmericanAir Karen Riedel is a rock star employee and a miracle worker.  I really appreciated her help this morning!\n",
      "@united 441, which also had 1 working WC in coach. Good thing this bird landed ahead of schedule. I have to use the WC stat.\n",
      "@united got it right with the safety demonstration! Corporate but funny, reserved but NOT CORNY  as a… http://t.co/lwOtKIEKGU\n",
      "@SouthwestAir oh no worries. Just have never seen that before until today. I mean…it is a great card 😀\n",
      "@USAirways on Sunday! Can't wait! See you then\n",
      "@united Thanks for explanation. It seems like an odd incentive structure, tho, because it dramatically diminishes the value of the certs.\n",
      "@SouthwestAir @FortuneMagazine I DO like your airlines, congrats! : )\n",
      "@JetBlue TA off site at #thelodge. Should be a fun day. @YeniettElswood @AndrewBiga @CodyCleverly @HeidiMacey @motherpollock\n",
      "@VirginAmerica I've applied more then once to be a member of the #inflight crew team...Im 100% interested. #flightattendant #dreampath -G\n",
      "@SouthwestAir @coachGS what's even better is the price changed in the 2 minutes since I talked to the lady and they still honored the cheap1\n",
      "Is expiring the @united offer to buy or transfer #United #MileagePlus miles with discount? Many offers during a year http://t.co/6tz6imqZlG\n",
      "@SouthwestAir Luvin me some flights today!! Don't change!!  And please add Paypal as payment option!!!\n",
      "I appreciate the reply. RT @SouthwestAir: @luxclark We’re so sorry to keep you waiting, Laura. An Agent will be with you shortly...^CB\n",
      "Keep it up :) @AmericanAir\n",
      "alright @JetBlue.... done! alternatively, if you'd like to charter a private jet for me to PITT i will gladly accept :)\n",
      "@JetBlue 's free wifi on board is the best thing that's happened since sliced bread\n",
      "@JetBlue Annnndddd, I just booked my flight. That was easy.\n",
      "@SouthwestAir Oh no worries NL, no disappointments here. Better to have NO lounges than like #Delta who has them but does disappoint!\n",
      "@AmericanAir thanks 😩. idk if it still Late Flight but I hope I get it tonight 😭\n",
      "@AmericanAir wow that's helpful.\n",
      "@SouthwestAir What can we do to bring you back to Jackson, MS?! We miss you terribly around here. These other airlines are horrible!!\n",
      "@united you guys continue to impress me in Houston. http://t.co/cIh1qNllcM\n",
      "@USAirways You all work hard at making sure things flow smoothly. Keeping positive.\n",
      "@united social media team is on point on #OscarNight :)\n",
      "@JetBlue no, they're too busy being awesome and trying to get us out ASAP. I'll deal.\n",
      "@united Don't know her last name, but Karen at your call center is terrific.  Friendly, helpful.  Terrific representative. Kudos.\n",
      "@united can Cancelled Flight my flight anytime if this is where they keep me for the night.. http://t.co/avRTOWTyzk\n",
      "@united wow you even answered back!  Awesome! @AmericanAir @USAirways That's customer service!!! #usairwaysfail\n",
      "@USAirways great job today from your team with a challenging weather delay on flight 1925 out of Charlotte. #travel #friendlyteam\n",
      "@USAirways i hope i get the opportunity to join the team with this job opening!\n",
      "@JetBlue Happy Anniversary!! It's hard to believe you're 15!! You're so young!\n",
      "@USAirways is alright with me. Please give Scott F at BDL a bonus for excellent customer service\n",
      "@united What a really GREAT &amp; FLATTERING story about you! You should be very proud :) http://t.co/7br5t5QCXk (via @ParachuteGuy)\n",
      "@SouthwestAir happy to enter your sweepstakes again #nutsaboutsouthwest\n",
      "@united @suntoshi I still like you united airlines\n",
      "@SouthwestAir Deborah helped me💁\n",
      "@united doing a good thing, holding flight for a few for 11 peeps on Late Flight connecting flight. We'll still make destination on time\n",
      "@USAirways customer service at its finest\n",
      "@USAirways couldn't be more thankful to your #orf and #dca crews on the ground and in the air today for help with a sick kid and a lost bag!\n",
      "@USAirways worked w/ Tiffany H at cust service desk in Charlotte and she was helpful and patient. Still stuck, but she was great.\n",
      ".@SouthwestAir you've got a mess here at DTW but your staff is doing great.\n",
      "@VirginAmerica Are there any plans for a short haul airline in Europe? Would defiantly fly with you guys :)\n",
      "@JetBlue here in Austin I saw the water bottles &amp; snacks @ the desk for your waiting passengers! Im so Flight Booking Problems my next flight with you!\n",
      "@JetBlue ha ha! Can I get a wake up call at boarding time please?  Large coffee, extralight extra sweet please!\n",
      "@USAirways thanks for getting me rescheduled on a direct flight to NOLA tonight in 10 minutes--and hopefully an hour earlier getting there!\n",
      "“@AmericanAir: @Dawn_Davis You're very welcome, Dawn. We love taking you flying. Let's do it again!” Again in 1 week!\n",
      "@SouthwestAir listening center is open seating just like on their planes. #RaganDisney\n",
      "@united 1632 was phenomenal frm gate (SEA) to gate (IAD)\n",
      "@JetBlue she was a phone agent, pls do! Peggy was pleasant, informative and delivered. ⭐️⭐️⭐️⭐️⭐️\n",
      "@united look at this beauty 😉 dc 10 united airlines 😉 http://t.co/MvYoizRPdE\n",
      "@SouthwestAir so excited about our last minute trip to @Disneyland (and she doesn't know yet!) http://t.co/nKAFbjyARi\n",
      "@united @jsumiyasu I am thankful to the  United ground staff who put me in the last seat on the last flight out. Home Late Flight is still home!\n",
      "@SouthwestAir CEO Gary Kelly, \"We are America's most loved and most flown airline!\" #SouthwestRally #BWI #bestemployees #swaculture #swapic\n",
      "@SouthwestAir @love_dragonss holy fuckinf shit\n",
      "@VirginAmerica This is such a great deal! Already thinking about my 2nd trip to @Australia &amp; I haven't even gone on my 1st trip yet! ;p\n",
      "@united After an hour+ wait, my issue is resolved. I did contact customer service to comment on the wait time. Thanks for contacting me.\n",
      "@SouthwestAir 👏👏👏 on that Late Flightst ad. Makes me happy to be flying you in a few days. #BETHonors\n",
      "@JetBlue Done! Also looks like you opened some up on my flight to Vegas on Sunday! 💙\n",
      "@united you too!\n",
      "@VirginAmerica @JezzieGoldz would have been a rough trip but LUCKILY we were on a #virginamerica flight. #weather\n",
      "@AmericanAir Hmm. Looks like you looked at my tweet from last month, not this one. Was able to get U.K. agent to help me, thanks.\n",
      "@SouthwestAir Leave BUR ten minutes Late Flight and arrive in SJC a minute before we were supposed to... Impressed! #gettingbetter 👍\n",
      "@USAirways @AmericanAir major issues getting out of Boston, but your crew has been exceptional. Let's see how things roll out in Philly.\n",
      "@JetBlue Not trying to make you look bad, on your website it says: \"Due to weather in the Charleston, NC\" Its actually in SC, not NC\n",
      "@united no worries - after everyone boarded, the cushions were brought in. Took a while, but they made it here.\n",
      "@SouthwestAir TY for your consideration!\n",
      "@united flight to RSW tonight -me &amp;  twin 3 year olds. A pilot who was in row by me stayed to help me get the boys &amp; bags off. Lifesaver!!\n",
      "@JetBlue That makes two of us! Lol #Blushing\n",
      "@AmericanAir @USAirways Statement wasn't sent yesterday like Jeanine said. After I even called last night as well. Again, excellent service\n",
      "@SouthwestAir Well plane arrived pretty much on time and it's 68 degrees on the ground in Texas. Not much to complain about.\n"
     ]
    }
   ],
   "source": [
    "False_negative=[]\n",
    "for i in range(X_test.toarray().shape[0]):\n",
    "    if Y_test.values[i] == 1 and PR_test[i] < 0.5:\n",
    "        False_negative.append(i)\n",
    "\n",
    "for i in False_negative:\n",
    "    print(df_test[\"text\"].values[i])   \n"
   ]
  }
 ],
 "metadata": {
  "kernelspec": {
   "display_name": "PYTORCH GPU",
   "language": "python",
   "name": "pytorch"
  },
  "language_info": {
   "codemirror_mode": {
    "name": "ipython",
    "version": 3
   },
   "file_extension": ".py",
   "mimetype": "text/x-python",
   "name": "python",
   "nbconvert_exporter": "python",
   "pygments_lexer": "ipython3",
   "version": "3.9.13"
  },
  "orig_nbformat": 4,
  "vscode": {
   "interpreter": {
    "hash": "0747f93ff6db21b2db2bf35ad4858dd0825b9c21797c41b4cc32097944ab3f10"
   }
  }
 },
 "nbformat": 4,
 "nbformat_minor": 2
}
